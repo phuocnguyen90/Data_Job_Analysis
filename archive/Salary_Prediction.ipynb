{
  "cells": [
    {
      "cell_type": "markdown",
      "metadata": {
        "id": "YoGALo8Ow7SD"
      },
      "source": [
        "# Salary prediciton based on job description\n",
        "\n",
        "Welcome to the second part of my analysis for a dataset on job postings for data related jobs in Vietnam market\n",
        "\n",
        "[Link to the first notebook](https://colab.research.google.com/drive/1JblYhdVO5mUeDo_sB9-L0pyxea4ypb4)\n",
        "\n",
        "[Link to the dataset](https://www.kaggle.com/datasets/phuocnguyen90/data-jobs-in-vietnam)\n",
        "\n",
        "Quick links\n",
        "\n",
        "[EDA](#EDA)\n",
        "\n",
        "[Feature select, feature engineer](#FSFE)\n",
        "\n",
        "  [XGBoost regression](#XGB)\n",
        "\n",
        "  [Random forrest assemble](#RF)\n",
        "\n",
        "  [Data engineer job testing](#DE)\n",
        "\n",
        "  [Multivariate polynomial regression](#poly)\n",
        "\n",
        "[Conclusion](#Conclusion)\n"
      ]
    },
    {
      "cell_type": "code",
      "execution_count": 1,
      "metadata": {
        "colab": {
          "base_uri": "https://localhost:8080/"
        },
        "id": "T-dnTDFGghaE",
        "outputId": "ddbcedac-71a9-466e-b2a2-e12a50ae18d0"
      },
      "outputs": [],
      "source": [
        "# First, let's import some toolkits for the analysis\n",
        "import numpy as np\n",
        "import pandas as pd\n",
        "import matplotlib.pyplot as plt\n",
        "import pickle\n",
        "import sklearn\n",
        "from sklearn.linear_model import LinearRegression\n",
        "from sklearn.metrics import classification_report, confusion_matrix\n",
        "from sklearn.metrics import mean_squared_error, mean_absolute_error\n",
        "from sklearn.ensemble import RandomForestRegressor\n",
        "from sklearn.svm import SVC\n",
        "from sklearn.model_selection import GridSearchCV\n",
        "from sklearn.model_selection import train_test_split\n",
        "\n",
        "#!python -m spacy download en_core_web_md\n",
        "#!pip install xgboost"
      ]
    },
    {
      "cell_type": "markdown",
      "metadata": {
        "id": "GAjEWl3nihHT"
      },
      "source": [
        "**<a name = \"EDA\">Load the data, EDA</a>**"
      ]
    },
    {
      "cell_type": "code",
      "execution_count": 2,
      "metadata": {
        "id": "xNI1XzhunZsn"
      },
      "outputs": [],
      "source": [
        "from sklearn.metrics.pairwise import cosine_similarity\n",
        "import spacy\n",
        "nlp = spacy.load('en_core_web_md')"
      ]
    },
    {
      "cell_type": "code",
      "execution_count": 3,
      "metadata": {
        "id": "W5MHoi4PigxV"
      },
      "outputs": [],
      "source": [
        "df = pd.read_csv('..\\dataset\\data_job_new_with_predicted_cat.csv')"
      ]
    },
    {
      "cell_type": "code",
      "execution_count": 4,
      "metadata": {},
      "outputs": [
        {
          "name": "stdout",
          "output_type": "stream",
          "text": [
            "<class 'pandas.core.frame.DataFrame'>\n",
            "RangeIndex: 3631 entries, 0 to 3630\n",
            "Data columns (total 25 columns):\n",
            " #   Column                      Non-Null Count  Dtype  \n",
            "---  ------                      --------------  -----  \n",
            " 0   ID                          3631 non-null   int64  \n",
            " 1   Company                     3631 non-null   object \n",
            " 2   Job_Title                   3631 non-null   object \n",
            " 3   YOE                         2974 non-null   float64\n",
            " 4   Location                    3621 non-null   object \n",
            " 5   Est_Salary                  3377 non-null   float64\n",
            " 6   Job_Description             3631 non-null   object \n",
            " 7   Link                        3631 non-null   object \n",
            " 8   Min_level                   3631 non-null   int64  \n",
            " 9   Max_level                   3631 non-null   int64  \n",
            " 10  VN                          3631 non-null   int64  \n",
            " 11  Overseas                    3631 non-null   int64  \n",
            " 12  Remote                      3631 non-null   int64  \n",
            " 13  Data_Engineer_prob          3631 non-null   float64\n",
            " 14  Data_Analyst_prob           3631 non-null   float64\n",
            " 15  Data_Scientist_prob         3631 non-null   float64\n",
            " 16  Business_Analyst_prob       3631 non-null   float64\n",
            " 17  Business_Intelligence_prob  3631 non-null   float64\n",
            " 18  Others_prob                 3631 non-null   float64\n",
            " 19  Data_Engineer               3631 non-null   int64  \n",
            " 20  Data_Analyst                3631 non-null   int64  \n",
            " 21  Data_Scientist              3631 non-null   int64  \n",
            " 22  Business_Analyst            3631 non-null   int64  \n",
            " 23  Business_Intelligence       3631 non-null   int64  \n",
            " 24  Others                      3631 non-null   int64  \n",
            "dtypes: float64(8), int64(12), object(5)\n",
            "memory usage: 709.3+ KB\n"
          ]
        }
      ],
      "source": [
        "df.info()"
      ]
    },
    {
      "cell_type": "code",
      "execution_count": 4,
      "metadata": {
        "colab": {
          "base_uri": "https://localhost:8080/",
          "height": 564
        },
        "id": "Cfp8lfbZ-NtY",
        "outputId": "6e2fc630-9b76-4d43-8d6a-ff143e18d16d"
      },
      "outputs": [
        {
          "data": {
            "image/png": "[encoded data removed]",
            "text/plain": [
              "<Figure size 1000x600 with 1 Axes>"
            ]
          },
          "metadata": {},
          "output_type": "display_data"
        }
      ],
      "source": [
        "# Plot a histogram of salary values\n",
        "plt.figure(figsize=(10, 6))\n",
        "plt.hist(df['Est_Salary'], bins=20, color='skyblue', edgecolor='black')\n",
        "plt.title('Salary Distribution')\n",
        "plt.xlabel('Salary')\n",
        "plt.ylabel('Frequency')\n",
        "plt.show()"
      ]
    },
    {
      "cell_type": "code",
      "execution_count": 5,
      "metadata": {
        "id": "TeFn9_mc-JKc"
      },
      "outputs": [],
      "source": [
        "# As we can see, the estimated salary data is rather skewed with a lot of outlier data, particularly for overseas jobs posted in Vietnam boards.\n",
        "# Since the amount of data available for overseas market is rather small, it would be insufficient to create a seperate model for this analysis\n",
        "# We should aim to more realistic expectations for Vietnam market, an impute the maximum salary \n",
        "df['Est_Salary'].astype(float) \n",
        "df['Est_Salary'] = df['Est_Salary'].apply(lambda x: 8000 if x >= 8000 else x)\n",
        "df = df.dropna(subset=['Est_Salary'])"
      ]
    },
    {
      "cell_type": "code",
      "execution_count": 6,
      "metadata": {
        "colab": {
          "base_uri": "https://localhost:8080/"
        },
        "id": "W3OAODws9Nhq",
        "outputId": "fbad7cc8-5249-4e53-dfa9-0d9b8f884e08"
      },
      "outputs": [
        {
          "data": {
            "text/plain": [
              "2349.902872371928"
            ]
          },
          "execution_count": 6,
          "metadata": {},
          "output_type": "execute_result"
        }
      ],
      "source": [
        "df['Est_Salary'].mean()"
      ]
    },
    {
      "cell_type": "code",
      "execution_count": 7,
      "metadata": {},
      "outputs": [
        {
          "name": "stdout",
          "output_type": "stream",
          "text": [
            "<class 'pandas.core.frame.DataFrame'>\n",
            "Index: 3377 entries, 0 to 3376\n",
            "Data columns (total 15 columns):\n",
            " #   Column                 Non-Null Count  Dtype  \n",
            "---  ------                 --------------  -----  \n",
            " 0   YOE                    2787 non-null   float64\n",
            " 1   Location               3370 non-null   object \n",
            " 2   Est_Salary             3377 non-null   float64\n",
            " 3   Job_Description        3377 non-null   object \n",
            " 4   Min_level              3377 non-null   int64  \n",
            " 5   Max_level              3377 non-null   int64  \n",
            " 6   VN                     3377 non-null   int64  \n",
            " 7   Overseas               3377 non-null   int64  \n",
            " 8   Remote                 3377 non-null   int64  \n",
            " 9   Data_Engineer          3377 non-null   int64  \n",
            " 10  Data_Analyst           3377 non-null   int64  \n",
            " 11  Data_Scientist         3377 non-null   int64  \n",
            " 12  Business_Analyst       3377 non-null   int64  \n",
            " 13  Business_Intelligence  3377 non-null   int64  \n",
            " 14  Others                 3377 non-null   int64  \n",
            "dtypes: float64(2), int64(11), object(2)\n",
            "memory usage: 422.1+ KB\n"
          ]
        }
      ],
      "source": [
        "col_to_drop = ['Job_Title','ID', 'Company', 'Link', 'Data_Engineer_prob','Data_Analyst_prob', 'Data_Scientist_prob','Business_Analyst_prob','Business_Intelligence_prob','Others_prob']\n",
        "clean_df=df.drop(columns=col_to_drop)\n",
        "clean_df.info()"
      ]
    },
    {
      "cell_type": "markdown",
      "metadata": {
        "id": "tO-4LIIZzD6q"
      },
      "source": [
        "Preprocessing some missing data"
      ]
    },
    {
      "cell_type": "code",
      "execution_count": 8,
      "metadata": {
        "id": "F2jBpIqVv6Ev"
      },
      "outputs": [],
      "source": [
        "# Fill missing values in 'Location' with 'VN'\n",
        "clean_df['Location'].fillna('VN', inplace=True)\n",
        "\n",
        "job_categories = ['Data_Engineer', 'Data_Analyst', 'Data_Scientist', 'Business_Analyst', 'Business_Intelligence','Others']\n",
        "\n",
        "# Calculate the average YOE for each job category and round it\n",
        "average_yoe_by_category = clean_df.groupby(job_categories)['YOE'].mean().round().reset_index()\n",
        "\n",
        "# Fill in the missing 'YOE' values based on the job category\n",
        "for _, row in average_yoe_by_category.iterrows():\n",
        "    condition = (clean_df[job_categories] == tuple(row[job_categories])).all(axis=1)\n",
        "    clean_df.loc[condition, 'YOE'] = row['YOE']\n",
        "\n",
        "\n",
        "\n",
        "\n"
      ]
    },
    {
      "cell_type": "code",
      "execution_count": 9,
      "metadata": {},
      "outputs": [
        {
          "data": {
            "text/plain": [
              "array(['HCM', 'HN', 'Nha Trang', 'HCM, Remote*', 'Remote', 'Binh Duong',\n",
              "       'Dong Nai', 'HCM*, Dong Nai', 'Da Nang', 'HCM, Remote',\n",
              "       'HCM, Da Nang*, Remote*', 'VN', 'Khanh Hoa', 'An Giang', 'Can Tho',\n",
              "       'Bac Ninh, HN*', 'Quy Nhon', 'Bac Ninh', 'Hai Duong', 'Quang Ngai',\n",
              "       'Gia Lai', 'Long An', 'Hung Yen, Hai Duong, Ha Noi', 'Binh Dinh',\n",
              "       'VN, Remote', 'HCM, Binh Duong', 'HCM, Da Nang', 'Quang Nam',\n",
              "       'BR-VT', 'HCM, Long An', 'Hoa Binh', 'Philippines',\n",
              "       'HCM, Binh Duong, Dong Nai', 'Binh Duong, HCM', 'Hai Phong',\n",
              "       'HCM, US*', 'Binh Duong, BR-VT', 'Malaysia, HN', 'Cambodia',\n",
              "       'Da Nang, Japan*', 'Philipines', 'HCM, Khanh Hoa',\n",
              "       'HCM, US*, Japan*', 'HCM, Australia*',\n",
              "       'HCM, Singapore*, Australia*', 'Senior', 'HCM, Can Tho',\n",
              "       'HCM, Cambodia', 'HCM, Da Nang, Remote', 'Thailand', 'HCM, HN',\n",
              "       'Hong Kong', 'HCM, Dong Nai', 'Korea', 'Australia', 'Malaysia',\n",
              "       'UK, Remote', 'Singapore',\n",
              "       'VN*, HN, HCM, Da Nang, India, Philippines',\n",
              "       'HCM, Da Nang, Binh Duong', 'HCM, Philippines',\n",
              "       'HCM, Singapore, APAC', 'EU, US, HCM*', 'Japan', 'VN, HN*, HCM*',\n",
              "       'Finland', 'VN ( HN, HCM )'], dtype=object)"
            ]
          },
          "execution_count": 9,
          "metadata": {},
          "output_type": "execute_result"
        }
      ],
      "source": [
        "# Location data is not yet cleaned \n",
        "clean_df['Location'].unique()"
      ]
    },
    {
      "cell_type": "code",
      "execution_count": 10,
      "metadata": {},
      "outputs": [
        {
          "name": "stdout",
          "output_type": "stream",
          "text": [
            "['HCM', 'Ha Noi', 'Nha Trang', 'Remote', 'Binh Duong', ..., 'Singapore', 'VN*', 'EU', 'Japan', 'Finland']\n",
            "Length: 38\n",
            "Categories (38, object): ['An Giang', 'Australia', 'BR-VT', 'Bac Ninh', ..., 'UK', 'Unspecified', 'VN', 'VN*']\n"
          ]
        }
      ],
      "source": [
        "clean_df['Location'] = clean_df['Location'].str.replace(r'[^a-zA-Z0-9 ]', '')\n",
        "\n",
        "# Replace typos and abbreviations\n",
        "clean_df['Location'] = clean_df['Location'].replace({\n",
        "    'HN': 'Ha Noi',\n",
        "    'Philipines': 'Philippines'\n",
        "})\n",
        "\n",
        "# Replace 'None' and 'Senior' with 'Unspecified'\n",
        "clean_df['Location'] = clean_df['Location'].replace({\n",
        "    None: 'Unspecified',\n",
        "    'Senior': 'Unspecified'\n",
        "})\n",
        "\n",
        "# Split values with multiple categories, keep only the least frequent category\n",
        "def split_and_keep_least_frequent(categories):\n",
        "    if pd.isna(categories):\n",
        "        return 'Unspecified'\n",
        "    else:\n",
        "        # Split categories by comma\n",
        "        category_list = [category.strip() for category in categories.split(',')]\n",
        "        \n",
        "        # Remove parenthesized content\n",
        "        category_list = [category.split('(')[0].strip() for category in category_list]\n",
        "        \n",
        "        # Count occurrences of each category\n",
        "        category_counts = pd.Series(category_list).value_counts()\n",
        "        \n",
        "        # Find the least frequent category\n",
        "        least_frequent_category = category_counts.idxmin()\n",
        "        \n",
        "        return least_frequent_category\n",
        "\n",
        "# Apply the function to the 'Location' column\n",
        "clean_df['Location'] = clean_df['Location'].apply(split_and_keep_least_frequent)\n",
        "\n",
        "clean_df['Location'] = clean_df['Location'].astype('category')\n",
        "clean_df['Location'].dropna()\n",
        "\n",
        "# Display the cleaned unique values\n",
        "print(clean_df['Location'].unique())"
      ]
    },
    {
      "cell_type": "code",
      "execution_count": 11,
      "metadata": {
        "colab": {
          "base_uri": "https://localhost:8080/",
          "height": 654
        },
        "id": "wtAA2KGKwIjO",
        "outputId": "7e749799-4ef2-4cb2-9453-b9920cd690a6"
      },
      "outputs": [
        {
          "data": {
            "text/html": [
              "<div>\n",
              "<style scoped>\n",
              "    .dataframe tbody tr th:only-of-type {\n",
              "        vertical-align: middle;\n",
              "    }\n",
              "\n",
              "    .dataframe tbody tr th {\n",
              "        vertical-align: top;\n",
              "    }\n",
              "\n",
              "    .dataframe thead th {\n",
              "        text-align: right;\n",
              "    }\n",
              "</style>\n",
              "<table border=\"1\" class=\"dataframe\">\n",
              "  <thead>\n",
              "    <tr style=\"text-align: right;\">\n",
              "      <th></th>\n",
              "      <th>YOE</th>\n",
              "      <th>Location</th>\n",
              "      <th>Est_Salary</th>\n",
              "      <th>Job_Description</th>\n",
              "      <th>Min_level</th>\n",
              "      <th>Max_level</th>\n",
              "      <th>VN</th>\n",
              "      <th>Overseas</th>\n",
              "      <th>Remote</th>\n",
              "      <th>Data_Engineer</th>\n",
              "      <th>Data_Analyst</th>\n",
              "      <th>Data_Scientist</th>\n",
              "      <th>Business_Analyst</th>\n",
              "      <th>Business_Intelligence</th>\n",
              "      <th>Others</th>\n",
              "    </tr>\n",
              "  </thead>\n",
              "  <tbody>\n",
              "    <tr>\n",
              "      <th>0</th>\n",
              "      <td>3.0</td>\n",
              "      <td>HCM</td>\n",
              "      <td>65.0</td>\n",
              "      <td>Minimum 10 hours/week; Students complete at le...</td>\n",
              "      <td>0</td>\n",
              "      <td>0</td>\n",
              "      <td>1</td>\n",
              "      <td>0</td>\n",
              "      <td>0</td>\n",
              "      <td>0</td>\n",
              "      <td>0</td>\n",
              "      <td>0</td>\n",
              "      <td>0</td>\n",
              "      <td>0</td>\n",
              "      <td>1</td>\n",
              "    </tr>\n",
              "    <tr>\n",
              "      <th>1</th>\n",
              "      <td>3.0</td>\n",
              "      <td>HCM</td>\n",
              "      <td>85.0</td>\n",
              "      <td>Familiar with Object-Oriented Programming, Mod...</td>\n",
              "      <td>0</td>\n",
              "      <td>0</td>\n",
              "      <td>1</td>\n",
              "      <td>0</td>\n",
              "      <td>0</td>\n",
              "      <td>0</td>\n",
              "      <td>0</td>\n",
              "      <td>0</td>\n",
              "      <td>0</td>\n",
              "      <td>0</td>\n",
              "      <td>1</td>\n",
              "    </tr>\n",
              "    <tr>\n",
              "      <th>2</th>\n",
              "      <td>3.0</td>\n",
              "      <td>Ha Noi</td>\n",
              "      <td>85.0</td>\n",
              "      <td>3rd, 4th, 5th year students or have graduated ...</td>\n",
              "      <td>0</td>\n",
              "      <td>0</td>\n",
              "      <td>1</td>\n",
              "      <td>0</td>\n",
              "      <td>0</td>\n",
              "      <td>0</td>\n",
              "      <td>0</td>\n",
              "      <td>0</td>\n",
              "      <td>0</td>\n",
              "      <td>0</td>\n",
              "      <td>1</td>\n",
              "    </tr>\n",
              "    <tr>\n",
              "      <th>3</th>\n",
              "      <td>3.0</td>\n",
              "      <td>HCM</td>\n",
              "      <td>85.0</td>\n",
              "      <td>The program will not be suitable for you who a...</td>\n",
              "      <td>0</td>\n",
              "      <td>0</td>\n",
              "      <td>1</td>\n",
              "      <td>0</td>\n",
              "      <td>0</td>\n",
              "      <td>0</td>\n",
              "      <td>0</td>\n",
              "      <td>0</td>\n",
              "      <td>0</td>\n",
              "      <td>0</td>\n",
              "      <td>1</td>\n",
              "    </tr>\n",
              "    <tr>\n",
              "      <th>4</th>\n",
              "      <td>3.0</td>\n",
              "      <td>HCM</td>\n",
              "      <td>105.0</td>\n",
              "      <td>DataGenius company is recruiting Data Engineer...</td>\n",
              "      <td>0</td>\n",
              "      <td>0</td>\n",
              "      <td>1</td>\n",
              "      <td>0</td>\n",
              "      <td>0</td>\n",
              "      <td>1</td>\n",
              "      <td>1</td>\n",
              "      <td>0</td>\n",
              "      <td>0</td>\n",
              "      <td>0</td>\n",
              "      <td>0</td>\n",
              "    </tr>\n",
              "  </tbody>\n",
              "</table>\n",
              "</div>"
            ],
            "text/plain": [
              "   YOE Location  Est_Salary  \\\n",
              "0  3.0      HCM        65.0   \n",
              "1  3.0      HCM        85.0   \n",
              "2  3.0   Ha Noi        85.0   \n",
              "3  3.0      HCM        85.0   \n",
              "4  3.0      HCM       105.0   \n",
              "\n",
              "                                     Job_Description  Min_level  Max_level  \\\n",
              "0  Minimum 10 hours/week; Students complete at le...          0          0   \n",
              "1  Familiar with Object-Oriented Programming, Mod...          0          0   \n",
              "2  3rd, 4th, 5th year students or have graduated ...          0          0   \n",
              "3  The program will not be suitable for you who a...          0          0   \n",
              "4  DataGenius company is recruiting Data Engineer...          0          0   \n",
              "\n",
              "   VN  Overseas  Remote  Data_Engineer  Data_Analyst  Data_Scientist  \\\n",
              "0   1         0       0              0             0               0   \n",
              "1   1         0       0              0             0               0   \n",
              "2   1         0       0              0             0               0   \n",
              "3   1         0       0              0             0               0   \n",
              "4   1         0       0              1             1               0   \n",
              "\n",
              "   Business_Analyst  Business_Intelligence  Others  \n",
              "0                 0                      0       1  \n",
              "1                 0                      0       1  \n",
              "2                 0                      0       1  \n",
              "3                 0                      0       1  \n",
              "4                 0                      0       0  "
            ]
          },
          "execution_count": 11,
          "metadata": {},
          "output_type": "execute_result"
        }
      ],
      "source": [
        "clean_df.head(5)\n"
      ]
    },
    {
      "cell_type": "markdown",
      "metadata": {
        "id": "Oa4r9VVZzMs1"
      },
      "source": [
        "The process of analyzing skill keywords were addressed quite carefully in the previous notebook. For the sake of simplicity, I have extracted all keywords from the previous notebook into a list"
      ]
    },
    {
      "cell_type": "code",
      "execution_count": 12,
      "metadata": {
        "id": "cX7bGpFrmLFM"
      },
      "outputs": [],
      "source": [
        "skills=['A/B Testing', 'Adaptability', 'Agile Methodologies', 'AI Ethics', 'AI Explainability', 'AI Fairness',\n",
        "        'API Integration', 'Attention to Detail', 'Big Data', 'Business Acumen', 'Business Analysis',\n",
        "        'Business Intelligence', 'Change Management', 'Classification', 'Client Management', 'Cloud Computing',\n",
        "        'Clustering', 'Collaboration', 'Communication', 'Conflict Resolution', 'Containers', 'Creative Problem-Solving',\n",
        "        'Creative Thinking', 'Critical Thinking', 'Dashboard Creation', 'Dashboard', 'Data Analysis',\n",
        "        'Data Analytics', 'Data Architecture', 'Data Auditing', 'Data Augmentation', 'Data Catalog', 'Data Cleaning',\n",
        "        'Data Cleansing', 'Data Collection', 'Data Driven', 'Data Engineering', 'Data Ethics', 'Data Exploration',\n",
        "        'Data Governance', 'Data Imputation', 'Data Integration', 'Data Interpretation', 'Data Lake',\n",
        "        'Data Lake Management', 'Data Lineage', 'Data Management', 'Data Manipulation', 'Data Migration', 'Data Mining',\n",
        "        'Data Modeling', 'Data Monetization', 'Data Normalization', 'Data Pipelines', 'Data Preprocessing', 'Data Privacy',\n",
        "        'Data Profiling', 'Data Quality', 'Data Reporting', 'Data Reshaping', 'Data Science',\n",
        "        'Data Scrubbing', 'Data Security', 'Data Stewardship', 'Data Storytelling', 'Data Strategy', 'Data Testing',\n",
        "        'Data Transformation', 'Data Validation', 'Data Visualization', 'Data Warehousing',\n",
        "        'Data Wrangling', 'Database Design', 'Database Management', 'Data-Driven',\n",
        "        'Decision-Making', 'Deep Learning', 'Dimensionality Reduction', 'Distributed Computing', 'Django', 'Docker',\n",
        "        'Domain Knowledge', 'EDA', 'Ensemble', 'Ethical', 'ETL', 'Excel', 'Experimental Design',\n",
        "        'FastAPI', 'Feature Engineering', 'Feature Scaling', 'Feature Selection', 'flask', 'Frameworks', 'GDPR',\n",
        "        'Geospatial Analysis', 'Git', 'Gradient Boosting', 'Hadoop', 'Hypothesis Testing', 'Informatica', 'Interpersonal Skills',\n",
        "        'Kanban', 'Leadership', 'Libraries', 'Machine Learning', 'Mathematics', 'Matplotlib', 'ML', 'Model Deployment',\n",
        "        'Model Interpretation', 'Natural Language Processing ', 'NLP', 'nltk', 'NoSQL', 'Numpy', 'Pandas', 'Power BI',\n",
        "        'Predictive Modeling', 'Presentation', 'Privacy compliance', 'Problem Definition', 'Problem Solving',\n",
        "        'Project Management', 'Project Planning', 'Python', 'PyTorch', 'Quantitative Analysis', 'Query Optimization',\n",
        "        'R', 'Random Forest', 'Regression Analysis', 'Reinforcement Learning', 'Requirements Gathering',\n",
        "        'Sampling Techniques', 'Scikit-learn', 'Scrum', 'spacy', 'Spark', 'SQL', 'Stakeholder Management', 'Statistical Analysis',\n",
        "        'Statistical Testing', 'Statistical Thinking', 'Strategic Thinking', 'Supervised Learning', 'Tableau', 'Teamwork',\n",
        "        'TensorFlow', 'Text Processing', 'Time Management', 'Time Series',\n",
        "        'Unsupervised Learning','vba', 'Version Control ', 'Web Scraping', 'Seaborn', 'XGBoost',\n",
        "]"
      ]
    },
    {
      "cell_type": "markdown",
      "metadata": {
        "id": "MjVH46AKzfmD"
      },
      "source": [
        "The aim of this task is to figure out the relationships between the job description with the estimated salary.\n",
        "\n",
        "Next I'll develop some helper functions to extract skill keywords from a particular job description. This function will both search for exact match and semantic match via cosine similarity, based on a smaller NLP model, spaCy vectorizer"
      ]
    },
    {
      "cell_type": "code",
      "execution_count": 13,
      "metadata": {
        "id": "HrVncVk1ob9U"
      },
      "outputs": [],
      "source": [
        "def phrase_tokenizer(text):\n",
        "\n",
        "  # Tokenize the job description\n",
        "  doc = nlp(text)\n",
        "\n",
        "  # Extract noun phrases while retaining the original text\n",
        "  noun_phrases = []\n",
        "  for chunk in doc.noun_chunks:\n",
        "      noun_phrases.append(chunk.text)\n",
        "\n",
        "  # Tokenized words\n",
        "  tokens = [token.text for token in doc]\n",
        "  return tokens\n",
        "\n"
      ]
    },
    {
      "cell_type": "code",
      "execution_count": 14,
      "metadata": {
        "id": "tOF6ewospkBR"
      },
      "outputs": [],
      "source": [
        "def skills_search(job_descriptions):\n",
        "\n",
        "  # Tokenize the job description\n",
        "  doc = nlp(job_descriptions)\n",
        "\n",
        "  # Initialize lists to store found skills\n",
        "  exact_matches = []\n",
        "  semantic_matches = []\n",
        "\n",
        "  # Iterate through tokens in the job description\n",
        "  for token in doc:\n",
        "      for skill in skills:\n",
        "          # Exact match\n",
        "          if token.text.lower() == skill.lower():\n",
        "              exact_matches.append(skill)\n",
        "          # Semantic similarity\n",
        "          elif nlp(token.text).similarity(nlp(skill)) > 0.7: #Edit the threshold here 0.7\n",
        "              semantic_matches.append(skill)\n",
        "\n",
        "  # Remove duplicates\n",
        "  exact_matches = list(set(exact_matches))\n",
        "  semantic_matches = list(set(semantic_matches))\n",
        "  return exact_matches, semantic_matches\n"
      ]
    },
    {
      "cell_type": "markdown",
      "metadata": {
        "id": "s3hBdLl2z2S9"
      },
      "source": [
        "We'll need to save the vector table for all the keywords"
      ]
    },
    {
      "cell_type": "code",
      "execution_count": 15,
      "metadata": {
        "id": "u1EmHfnuuaB9"
      },
      "outputs": [],
      "source": [
        "def create_skill_encoding_table(skills, job_descriptions):\n",
        "    # Create an empty DataFrame with columns for each skill\n",
        "    skill_encoding_table = pd.DataFrame(columns=skills, dtype=bool)\n",
        "\n",
        "    # Loop through job descriptions and search for skills\n",
        "    for job_description in job_descriptions:\n",
        "        tokens = phrase_tokenizer(job_description)\n",
        "\n",
        "        # Create a dictionary to represent skill presence (1 if found, 0 otherwise)\n",
        "        skill_presence = {skill: 1 if skill.lower() in [token.lower() for token in tokens] else 0 for skill in skills}\n",
        "        # Create a DataFrame from the skill_presence dictionary\n",
        "        skill_presence_df = pd.DataFrame([skill_presence])\n",
        "\n",
        "        # Concatenate the skill_presence_df to the skill_encoding_table\n",
        "        skill_encoding_table = pd.concat([skill_encoding_table, skill_presence_df], ignore_index=True)\n",
        "\n",
        "    return skill_encoding_table\n",
        "\n",
        "\n",
        "\n",
        "\n"
      ]
    },
    {
      "cell_type": "code",
      "execution_count": 16,
      "metadata": {},
      "outputs": [],
      "source": [
        "# Create the skill encoding table\n",
        "skill_table = create_skill_encoding_table(skills, clean_df['Job_Description'])"
      ]
    },
    {
      "cell_type": "markdown",
      "metadata": {
        "id": "ld7MYAV0Fdy1"
      },
      "source": [
        "# <a name = \"FEFS\">Feature engineering, feature selection </a>"
      ]
    },
    {
      "cell_type": "code",
      "execution_count": 18,
      "metadata": {
        "id": "aRoZI1fRyER_"
      },
      "outputs": [],
      "source": [
        "import xgboost as xgb\n",
        "from sklearn.experimental import enable_hist_gradient_boosting\n",
        "from sklearn.ensemble import RandomForestRegressor, HistGradientBoostingRegressor\n",
        "from sklearn.metrics import mean_absolute_error\n",
        "from sklearn.preprocessing import LabelEncoder\n",
        "\n",
        "label_encoder = LabelEncoder()\n",
        "\n",
        "#Since we'll try with different methods of feature engineering and selecting, I have created two helper functions to do the job\n",
        "\n",
        "def feature_engineer(df, col_to_avg=None, col_to_encode=None, fill='None'):\n",
        "\n",
        "    # Average the cols\n",
        "    if col_to_avg is not None and len(col_to_avg) > 1:\n",
        "        df['col_avg'] = df[col_to_avg].mean(axis=1)\n",
        "\n",
        "    # One-hot encode the cols\n",
        "    if col_to_encode is not None:\n",
        "        df = pd.get_dummies(df, columns=col_to_encode, drop_first=True)\n",
        "\n",
        "    # Fill the missing values\n",
        "    if fill == 0:\n",
        "        df.fillna(value=float(0), inplace=True)\n",
        "    elif fill == 'NaN':\n",
        "        df.fillna(value=float('NaN'), inplace=True)\n",
        "    elif fill=='None':\n",
        "        pass\n",
        "\n",
        "    return df\n",
        "\n",
        "def feature_select(df, features, skills=None):\n",
        "    if skills is None:\n",
        "        features = features\n",
        "        target = 'Est_Salary'\n",
        "    elif skills is not None:\n",
        "        features = features+list(skills.columns)\n",
        "        target = 'Est_Salary'\n",
        "        df = df.join(skills, how='left')\n",
        "\n",
        "    X = df[features]\n",
        "    y = df[target]\n",
        "\n",
        "    X_train, X_test, y_train, y_test = train_test_split(X, y, test_size=0.2, random_state=42)\n",
        "    return X_train, X_test, y_train, y_test\n",
        "\n"
      ]
    },
    {
      "cell_type": "code",
      "execution_count": 19,
      "metadata": {
        "colab": {
          "base_uri": "https://localhost:8080/"
        },
        "id": "_FU4F45EDOm_",
        "outputId": "c5e1074e-53dd-4bcd-a11b-9f5489ddd88f"
      },
      "outputs": [
        {
          "name": "stdout",
          "output_type": "stream",
          "text": [
            "<class 'pandas.core.frame.DataFrame'>\n",
            "Index: 3377 entries, 0 to 3376\n",
            "Data columns (total 15 columns):\n",
            " #   Column                 Non-Null Count  Dtype   \n",
            "---  ------                 --------------  -----   \n",
            " 0   YOE                    3377 non-null   float64 \n",
            " 1   Location               3377 non-null   category\n",
            " 2   Est_Salary             3377 non-null   float64 \n",
            " 3   Job_Description        3377 non-null   object  \n",
            " 4   Min_level              3377 non-null   int64   \n",
            " 5   Max_level              3377 non-null   int64   \n",
            " 6   VN                     3377 non-null   int64   \n",
            " 7   Overseas               3377 non-null   int64   \n",
            " 8   Remote                 3377 non-null   int64   \n",
            " 9   Data_Engineer          3377 non-null   int64   \n",
            " 10  Data_Analyst           3377 non-null   int64   \n",
            " 11  Data_Scientist         3377 non-null   int64   \n",
            " 12  Business_Analyst       3377 non-null   int64   \n",
            " 13  Business_Intelligence  3377 non-null   int64   \n",
            " 14  Others                 3377 non-null   int64   \n",
            "dtypes: category(1), float64(2), int64(11), object(1)\n",
            "memory usage: 400.4+ KB\n"
          ]
        }
      ],
      "source": [
        "# Let's check again what data do we have here\n",
        "clean_df.info()"
      ]
    },
    {
      "cell_type": "markdown",
      "metadata": {
        "id": "SkQG9XzEFycL"
      },
      "source": [
        "# Base model: <a name = \"XGB\">XGBoost regression</a>"
      ]
    },
    {
      "cell_type": "code",
      "execution_count": 20,
      "metadata": {
        "colab": {
          "base_uri": "https://localhost:8080/"
        },
        "id": "wwgRUHyrEAIy",
        "outputId": "53717c88-802e-479b-cecf-2b5fc76b1fed"
      },
      "outputs": [
        {
          "name": "stdout",
          "output_type": "stream",
          "text": [
            "<class 'pandas.core.frame.DataFrame'>\n",
            "Index: 3377 entries, 0 to 3376\n",
            "Data columns (total 15 columns):\n",
            " #   Column                 Non-Null Count  Dtype   \n",
            "---  ------                 --------------  -----   \n",
            " 0   YOE                    3377 non-null   float64 \n",
            " 1   Location               3377 non-null   category\n",
            " 2   Est_Salary             3377 non-null   float64 \n",
            " 3   Job_Description        3377 non-null   object  \n",
            " 4   Min_level              3377 non-null   int64   \n",
            " 5   Max_level              3377 non-null   int64   \n",
            " 6   VN                     3377 non-null   int64   \n",
            " 7   Overseas               3377 non-null   int64   \n",
            " 8   Remote                 3377 non-null   int64   \n",
            " 9   Data_Engineer          3377 non-null   int64   \n",
            " 10  Data_Analyst           3377 non-null   int64   \n",
            " 11  Data_Scientist         3377 non-null   int64   \n",
            " 12  Business_Analyst       3377 non-null   int64   \n",
            " 13  Business_Intelligence  3377 non-null   int64   \n",
            " 14  Others                 3377 non-null   int64   \n",
            "dtypes: category(1), float64(2), int64(11), object(1)\n",
            "memory usage: 400.4+ KB\n"
          ]
        }
      ],
      "source": [
        "xgb_df = feature_engineer(clean_df)\n",
        "xgb_df.info()"
      ]
    },
    {
      "cell_type": "code",
      "execution_count": 31,
      "metadata": {
        "id": "FTNx5ZQgF3uB"
      },
      "outputs": [],
      "source": [
        "#Feature selection\n",
        "\n",
        "# Select the relevant features\n",
        "\n",
        "features = ['YOE', 'Min_level', 'Location','Overseas', 'VN','Remote']\n",
        "categorical_columns = ['Location']\n",
        "\n",
        "X_train, X_test, y_train, y_test = feature_select(clean_df, features, skill_table)"
      ]
    },
    {
      "cell_type": "code",
      "execution_count": 32,
      "metadata": {},
      "outputs": [
        {
          "data": {
            "text/html": [
              "<div>\n",
              "<style scoped>\n",
              "    .dataframe tbody tr th:only-of-type {\n",
              "        vertical-align: middle;\n",
              "    }\n",
              "\n",
              "    .dataframe tbody tr th {\n",
              "        vertical-align: top;\n",
              "    }\n",
              "\n",
              "    .dataframe thead th {\n",
              "        text-align: right;\n",
              "    }\n",
              "</style>\n",
              "<table border=\"1\" class=\"dataframe\">\n",
              "  <thead>\n",
              "    <tr style=\"text-align: right;\">\n",
              "      <th></th>\n",
              "      <th>YOE</th>\n",
              "      <th>Min_level</th>\n",
              "      <th>Location</th>\n",
              "      <th>Overseas</th>\n",
              "      <th>VN</th>\n",
              "      <th>Remote</th>\n",
              "      <th>A/B Testing</th>\n",
              "      <th>Adaptability</th>\n",
              "      <th>Agile Methodologies</th>\n",
              "      <th>AI Ethics</th>\n",
              "      <th>...</th>\n",
              "      <th>TensorFlow</th>\n",
              "      <th>Text Processing</th>\n",
              "      <th>Time Management</th>\n",
              "      <th>Time Series</th>\n",
              "      <th>Unsupervised Learning</th>\n",
              "      <th>vba</th>\n",
              "      <th>Version Control</th>\n",
              "      <th>Web Scraping</th>\n",
              "      <th>Seaborn</th>\n",
              "      <th>XGBoost</th>\n",
              "    </tr>\n",
              "  </thead>\n",
              "  <tbody>\n",
              "    <tr>\n",
              "      <th>3199</th>\n",
              "      <td>3.0</td>\n",
              "      <td>2</td>\n",
              "      <td>Thailand</td>\n",
              "      <td>1</td>\n",
              "      <td>0</td>\n",
              "      <td>0</td>\n",
              "      <td>0</td>\n",
              "      <td>0</td>\n",
              "      <td>0</td>\n",
              "      <td>0</td>\n",
              "      <td>...</td>\n",
              "      <td>0</td>\n",
              "      <td>0</td>\n",
              "      <td>0</td>\n",
              "      <td>0</td>\n",
              "      <td>0</td>\n",
              "      <td>0</td>\n",
              "      <td>0</td>\n",
              "      <td>0</td>\n",
              "      <td>0</td>\n",
              "      <td>0</td>\n",
              "    </tr>\n",
              "    <tr>\n",
              "      <th>790</th>\n",
              "      <td>3.0</td>\n",
              "      <td>2</td>\n",
              "      <td>Ha Noi</td>\n",
              "      <td>0</td>\n",
              "      <td>1</td>\n",
              "      <td>0</td>\n",
              "      <td>0</td>\n",
              "      <td>0</td>\n",
              "      <td>0</td>\n",
              "      <td>0</td>\n",
              "      <td>...</td>\n",
              "      <td>0</td>\n",
              "      <td>0</td>\n",
              "      <td>0</td>\n",
              "      <td>0</td>\n",
              "      <td>0</td>\n",
              "      <td>0</td>\n",
              "      <td>0</td>\n",
              "      <td>0</td>\n",
              "      <td>0</td>\n",
              "      <td>0</td>\n",
              "    </tr>\n",
              "    <tr>\n",
              "      <th>3069</th>\n",
              "      <td>3.0</td>\n",
              "      <td>2</td>\n",
              "      <td>Ha Noi</td>\n",
              "      <td>0</td>\n",
              "      <td>1</td>\n",
              "      <td>0</td>\n",
              "      <td>0</td>\n",
              "      <td>0</td>\n",
              "      <td>0</td>\n",
              "      <td>0</td>\n",
              "      <td>...</td>\n",
              "      <td>0</td>\n",
              "      <td>0</td>\n",
              "      <td>0</td>\n",
              "      <td>0</td>\n",
              "      <td>0</td>\n",
              "      <td>0</td>\n",
              "      <td>0</td>\n",
              "      <td>0</td>\n",
              "      <td>0</td>\n",
              "      <td>0</td>\n",
              "    </tr>\n",
              "    <tr>\n",
              "      <th>1220</th>\n",
              "      <td>3.0</td>\n",
              "      <td>1</td>\n",
              "      <td>Ha Noi</td>\n",
              "      <td>0</td>\n",
              "      <td>1</td>\n",
              "      <td>0</td>\n",
              "      <td>0</td>\n",
              "      <td>0</td>\n",
              "      <td>0</td>\n",
              "      <td>0</td>\n",
              "      <td>...</td>\n",
              "      <td>0</td>\n",
              "      <td>0</td>\n",
              "      <td>0</td>\n",
              "      <td>0</td>\n",
              "      <td>0</td>\n",
              "      <td>0</td>\n",
              "      <td>0</td>\n",
              "      <td>0</td>\n",
              "      <td>0</td>\n",
              "      <td>0</td>\n",
              "    </tr>\n",
              "    <tr>\n",
              "      <th>3085</th>\n",
              "      <td>3.0</td>\n",
              "      <td>1</td>\n",
              "      <td>HCM</td>\n",
              "      <td>0</td>\n",
              "      <td>1</td>\n",
              "      <td>0</td>\n",
              "      <td>0</td>\n",
              "      <td>0</td>\n",
              "      <td>0</td>\n",
              "      <td>0</td>\n",
              "      <td>...</td>\n",
              "      <td>0</td>\n",
              "      <td>0</td>\n",
              "      <td>0</td>\n",
              "      <td>0</td>\n",
              "      <td>0</td>\n",
              "      <td>0</td>\n",
              "      <td>0</td>\n",
              "      <td>0</td>\n",
              "      <td>0</td>\n",
              "      <td>0</td>\n",
              "    </tr>\n",
              "    <tr>\n",
              "      <th>...</th>\n",
              "      <td>...</td>\n",
              "      <td>...</td>\n",
              "      <td>...</td>\n",
              "      <td>...</td>\n",
              "      <td>...</td>\n",
              "      <td>...</td>\n",
              "      <td>...</td>\n",
              "      <td>...</td>\n",
              "      <td>...</td>\n",
              "      <td>...</td>\n",
              "      <td>...</td>\n",
              "      <td>...</td>\n",
              "      <td>...</td>\n",
              "      <td>...</td>\n",
              "      <td>...</td>\n",
              "      <td>...</td>\n",
              "      <td>...</td>\n",
              "      <td>...</td>\n",
              "      <td>...</td>\n",
              "      <td>...</td>\n",
              "      <td>...</td>\n",
              "    </tr>\n",
              "    <tr>\n",
              "      <th>1095</th>\n",
              "      <td>3.0</td>\n",
              "      <td>2</td>\n",
              "      <td>Ha Noi</td>\n",
              "      <td>0</td>\n",
              "      <td>1</td>\n",
              "      <td>0</td>\n",
              "      <td>0</td>\n",
              "      <td>0</td>\n",
              "      <td>0</td>\n",
              "      <td>0</td>\n",
              "      <td>...</td>\n",
              "      <td>0</td>\n",
              "      <td>0</td>\n",
              "      <td>0</td>\n",
              "      <td>0</td>\n",
              "      <td>0</td>\n",
              "      <td>0</td>\n",
              "      <td>0</td>\n",
              "      <td>0</td>\n",
              "      <td>0</td>\n",
              "      <td>0</td>\n",
              "    </tr>\n",
              "    <tr>\n",
              "      <th>1130</th>\n",
              "      <td>3.0</td>\n",
              "      <td>2</td>\n",
              "      <td>HCM</td>\n",
              "      <td>0</td>\n",
              "      <td>1</td>\n",
              "      <td>0</td>\n",
              "      <td>0</td>\n",
              "      <td>0</td>\n",
              "      <td>0</td>\n",
              "      <td>0</td>\n",
              "      <td>...</td>\n",
              "      <td>0</td>\n",
              "      <td>0</td>\n",
              "      <td>0</td>\n",
              "      <td>0</td>\n",
              "      <td>0</td>\n",
              "      <td>0</td>\n",
              "      <td>0</td>\n",
              "      <td>0</td>\n",
              "      <td>0</td>\n",
              "      <td>0</td>\n",
              "    </tr>\n",
              "    <tr>\n",
              "      <th>1294</th>\n",
              "      <td>3.0</td>\n",
              "      <td>2</td>\n",
              "      <td>HCM</td>\n",
              "      <td>0</td>\n",
              "      <td>1</td>\n",
              "      <td>0</td>\n",
              "      <td>0</td>\n",
              "      <td>0</td>\n",
              "      <td>0</td>\n",
              "      <td>0</td>\n",
              "      <td>...</td>\n",
              "      <td>0</td>\n",
              "      <td>0</td>\n",
              "      <td>0</td>\n",
              "      <td>0</td>\n",
              "      <td>0</td>\n",
              "      <td>0</td>\n",
              "      <td>0</td>\n",
              "      <td>0</td>\n",
              "      <td>0</td>\n",
              "      <td>0</td>\n",
              "    </tr>\n",
              "    <tr>\n",
              "      <th>860</th>\n",
              "      <td>2.0</td>\n",
              "      <td>1</td>\n",
              "      <td>Ha Noi</td>\n",
              "      <td>0</td>\n",
              "      <td>1</td>\n",
              "      <td>0</td>\n",
              "      <td>0</td>\n",
              "      <td>0</td>\n",
              "      <td>0</td>\n",
              "      <td>0</td>\n",
              "      <td>...</td>\n",
              "      <td>0</td>\n",
              "      <td>0</td>\n",
              "      <td>0</td>\n",
              "      <td>0</td>\n",
              "      <td>0</td>\n",
              "      <td>1</td>\n",
              "      <td>0</td>\n",
              "      <td>0</td>\n",
              "      <td>0</td>\n",
              "      <td>0</td>\n",
              "    </tr>\n",
              "    <tr>\n",
              "      <th>3174</th>\n",
              "      <td>3.0</td>\n",
              "      <td>2</td>\n",
              "      <td>HCM</td>\n",
              "      <td>0</td>\n",
              "      <td>1</td>\n",
              "      <td>1</td>\n",
              "      <td>0</td>\n",
              "      <td>0</td>\n",
              "      <td>0</td>\n",
              "      <td>0</td>\n",
              "      <td>...</td>\n",
              "      <td>0</td>\n",
              "      <td>0</td>\n",
              "      <td>0</td>\n",
              "      <td>0</td>\n",
              "      <td>0</td>\n",
              "      <td>0</td>\n",
              "      <td>0</td>\n",
              "      <td>0</td>\n",
              "      <td>0</td>\n",
              "      <td>0</td>\n",
              "    </tr>\n",
              "  </tbody>\n",
              "</table>\n",
              "<p>2701 rows × 164 columns</p>\n",
              "</div>"
            ],
            "text/plain": [
              "      YOE  Min_level  Location  Overseas  VN  Remote  A/B Testing  \\\n",
              "3199  3.0          2  Thailand         1   0       0            0   \n",
              "790   3.0          2    Ha Noi         0   1       0            0   \n",
              "3069  3.0          2    Ha Noi         0   1       0            0   \n",
              "1220  3.0          1    Ha Noi         0   1       0            0   \n",
              "3085  3.0          1       HCM         0   1       0            0   \n",
              "...   ...        ...       ...       ...  ..     ...          ...   \n",
              "1095  3.0          2    Ha Noi         0   1       0            0   \n",
              "1130  3.0          2       HCM         0   1       0            0   \n",
              "1294  3.0          2       HCM         0   1       0            0   \n",
              "860   2.0          1    Ha Noi         0   1       0            0   \n",
              "3174  3.0          2       HCM         0   1       1            0   \n",
              "\n",
              "      Adaptability  Agile Methodologies  AI Ethics  ...  TensorFlow  \\\n",
              "3199             0                    0          0  ...           0   \n",
              "790              0                    0          0  ...           0   \n",
              "3069             0                    0          0  ...           0   \n",
              "1220             0                    0          0  ...           0   \n",
              "3085             0                    0          0  ...           0   \n",
              "...            ...                  ...        ...  ...         ...   \n",
              "1095             0                    0          0  ...           0   \n",
              "1130             0                    0          0  ...           0   \n",
              "1294             0                    0          0  ...           0   \n",
              "860              0                    0          0  ...           0   \n",
              "3174             0                    0          0  ...           0   \n",
              "\n",
              "      Text Processing  Time Management  Time Series  Unsupervised Learning  \\\n",
              "3199                0                0            0                      0   \n",
              "790                 0                0            0                      0   \n",
              "3069                0                0            0                      0   \n",
              "1220                0                0            0                      0   \n",
              "3085                0                0            0                      0   \n",
              "...               ...              ...          ...                    ...   \n",
              "1095                0                0            0                      0   \n",
              "1130                0                0            0                      0   \n",
              "1294                0                0            0                      0   \n",
              "860                 0                0            0                      0   \n",
              "3174                0                0            0                      0   \n",
              "\n",
              "      vba  Version Control   Web Scraping  Seaborn  XGBoost  \n",
              "3199    0                 0             0        0        0  \n",
              "790     0                 0             0        0        0  \n",
              "3069    0                 0             0        0        0  \n",
              "1220    0                 0             0        0        0  \n",
              "3085    0                 0             0        0        0  \n",
              "...   ...               ...           ...      ...      ...  \n",
              "1095    0                 0             0        0        0  \n",
              "1130    0                 0             0        0        0  \n",
              "1294    0                 0             0        0        0  \n",
              "860     1                 0             0        0        0  \n",
              "3174    0                 0             0        0        0  \n",
              "\n",
              "[2701 rows x 164 columns]"
            ]
          },
          "execution_count": 32,
          "metadata": {},
          "output_type": "execute_result"
        }
      ],
      "source": [
        "X_train"
      ]
    },
    {
      "cell_type": "code",
      "execution_count": 28,
      "metadata": {
        "colab": {
          "base_uri": "https://localhost:8080/"
        },
        "id": "UbSFVLVF5ULU",
        "outputId": "91028c6c-5004-4fa5-f1b3-ec2001cbfd06"
      },
      "outputs": [
        {
          "name": "stdout",
          "output_type": "stream",
          "text": [
            "Mean Absolute Error: 842.9741761529234\n"
          ]
        }
      ],
      "source": [
        "\n",
        "# Create and train the model (Random Forest Regressor, for example)\n",
        "model = xgb.XGBRegressor(objective='reg:squarederror',  enable_categorical=True, random_state=42)  \n",
        "model.fit(X_train, y_train)\n",
        "\n",
        "# Make predictions\n",
        "y_pred = model.predict(X_test)\n",
        "\n",
        "# Evaluate the model\n",
        "mae = mean_absolute_error(y_test, y_pred)\n",
        "print(\"Mean Absolute Error:\", mae)"
      ]
    },
    {
      "cell_type": "code",
      "execution_count": 19,
      "metadata": {
        "colab": {
          "base_uri": "https://localhost:8080/"
        },
        "id": "xTAfKwi_7fzR",
        "outputId": "62b3c211-9373-4d46-be2f-f19051801ab7"
      },
      "outputs": [
        {
          "name": "stdout",
          "output_type": "stream",
          "text": [
            "Mean Absolute Error: 699.6945606676737\n",
            "Mean Squared Error: 1019074.2147106115\n",
            "Root Mean Squared Error: 1009.4920577749047\n",
            "R-squared (R^2): 0.46318466522961677\n"
          ]
        }
      ],
      "source": [
        "from sklearn.metrics import mean_absolute_error, mean_squared_error, r2_score\n",
        "import numpy as np\n",
        "\n",
        "# Calculate MAE\n",
        "mae = mean_absolute_error(y_test, y_pred)\n",
        "print(\"Mean Absolute Error:\", mae)\n",
        "\n",
        "# Calculate MSE and RMSE\n",
        "mse = mean_squared_error(y_test, y_pred)\n",
        "rmse = np.sqrt(mse)\n",
        "print(\"Mean Squared Error:\", mse)\n",
        "print(\"Root Mean Squared Error:\", rmse)\n",
        "\n",
        "# Calculate R-squared (R^2)\n",
        "r2 = r2_score(y_test, y_pred)\n",
        "print(\"R-squared (R^2):\", r2)\n"
      ]
    },
    {
      "cell_type": "markdown",
      "metadata": {
        "id": "3s_a3z1F-3mR"
      },
      "source": []
    },
    {
      "cell_type": "markdown",
      "metadata": {
        "id": "f1AJ5qRXAObs"
      },
      "source": [
        "# Analysis"
      ]
    },
    {
      "cell_type": "code",
      "execution_count": 29,
      "metadata": {
        "colab": {
          "base_uri": "https://localhost:8080/",
          "height": 564
        },
        "id": "kqkgvXI8_kbg",
        "outputId": "d266ad61-c1cc-45e5-bc20-b884ba6e1ee6"
      },
      "outputs": [
        {
          "data": {
            "image/png": "[encoded data removed]",
            "text/plain": [
              "<Figure size 1000x600 with 1 Axes>"
            ]
          },
          "metadata": {},
          "output_type": "display_data"
        }
      ],
      "source": [
        "# Get feature importance scores\n",
        "feature_importance = model.feature_importances_\n",
        "\n",
        "# Get the names of the features\n",
        "feature_names = X_train.columns\n",
        "\n",
        "# Create a DataFrame to display feature importance\n",
        "feature_importance_df = pd.DataFrame({'Feature': feature_names, 'Importance': feature_importance})\n",
        "feature_importance_df = feature_importance_df.sort_values(by='Importance', ascending=False)\n",
        "\n",
        "# Select the top 10-15 features\n",
        "top_features = feature_importance_df.head(30)  # Change 15 to the desired number of top features\n",
        "\n",
        "# Plot feature importance for the top features\n",
        "plt.figure(figsize=(10, 6))\n",
        "plt.barh(top_features['Feature'], top_features['Importance'])\n",
        "plt.xlabel('Feature Importance')\n",
        "plt.title('Top 15 Feature Importance Scores')\n",
        "plt.show()\n"
      ]
    },
    {
      "cell_type": "markdown",
      "metadata": {
        "id": "6Tm2jcXlF7hU"
      },
      "source": [
        "# <a name = \"RF\">Random Forest Ensemble</a>"
      ]
    },
    {
      "cell_type": "code",
      "execution_count": 30,
      "metadata": {
        "colab": {
          "base_uri": "https://localhost:8080/"
        },
        "id": "kK2mkbiG51_g",
        "outputId": "fc263636-9de2-4173-b72b-90eb53660d4d"
      },
      "outputs": [
        {
          "ename": "ValueError",
          "evalue": "\nAll the 50 fits failed.\nIt is very likely that your model is misconfigured.\nYou can try to debug the error by setting error_score='raise'.\n\nBelow are more details about the failures:\n--------------------------------------------------------------------------------\n10 fits failed with the following error:\nTraceback (most recent call last):\n  File \"c:\\Users\\PC\\miniconda3\\envs\\data_venv\\lib\\site-packages\\sklearn\\model_selection\\_validation.py\", line 729, in _fit_and_score\n    estimator.fit(X_train, y_train, **fit_params)\n  File \"c:\\Users\\PC\\miniconda3\\envs\\data_venv\\lib\\site-packages\\sklearn\\base.py\", line 1152, in wrapper\n    return fit_method(estimator, *args, **kwargs)\n  File \"c:\\Users\\PC\\miniconda3\\envs\\data_venv\\lib\\site-packages\\sklearn\\ensemble\\_forest.py\", line 348, in fit\n    X, y = self._validate_data(\n  File \"c:\\Users\\PC\\miniconda3\\envs\\data_venv\\lib\\site-packages\\sklearn\\base.py\", line 622, in _validate_data\n    X, y = check_X_y(X, y, **check_params)\n  File \"c:\\Users\\PC\\miniconda3\\envs\\data_venv\\lib\\site-packages\\sklearn\\utils\\validation.py\", line 1146, in check_X_y\n    X = check_array(\n  File \"c:\\Users\\PC\\miniconda3\\envs\\data_venv\\lib\\site-packages\\sklearn\\utils\\validation.py\", line 915, in check_array\n    array = _asarray_with_order(array, order=order, dtype=dtype, xp=xp)\n  File \"c:\\Users\\PC\\miniconda3\\envs\\data_venv\\lib\\site-packages\\sklearn\\utils\\_array_api.py\", line 380, in _asarray_with_order\n    array = numpy.asarray(array, order=order, dtype=dtype)\n  File \"c:\\Users\\PC\\miniconda3\\envs\\data_venv\\lib\\site-packages\\pandas\\core\\generic.py\", line 2084, in __array__\n    arr = np.asarray(values, dtype=dtype)\nValueError: could not convert string to float: 'Ha Noi'\n\n--------------------------------------------------------------------------------\n40 fits failed with the following error:\nTraceback (most recent call last):\n  File \"c:\\Users\\PC\\miniconda3\\envs\\data_venv\\lib\\site-packages\\sklearn\\model_selection\\_validation.py\", line 729, in _fit_and_score\n    estimator.fit(X_train, y_train, **fit_params)\n  File \"c:\\Users\\PC\\miniconda3\\envs\\data_venv\\lib\\site-packages\\sklearn\\base.py\", line 1152, in wrapper\n    return fit_method(estimator, *args, **kwargs)\n  File \"c:\\Users\\PC\\miniconda3\\envs\\data_venv\\lib\\site-packages\\sklearn\\ensemble\\_forest.py\", line 348, in fit\n    X, y = self._validate_data(\n  File \"c:\\Users\\PC\\miniconda3\\envs\\data_venv\\lib\\site-packages\\sklearn\\base.py\", line 622, in _validate_data\n    X, y = check_X_y(X, y, **check_params)\n  File \"c:\\Users\\PC\\miniconda3\\envs\\data_venv\\lib\\site-packages\\sklearn\\utils\\validation.py\", line 1146, in check_X_y\n    X = check_array(\n  File \"c:\\Users\\PC\\miniconda3\\envs\\data_venv\\lib\\site-packages\\sklearn\\utils\\validation.py\", line 915, in check_array\n    array = _asarray_with_order(array, order=order, dtype=dtype, xp=xp)\n  File \"c:\\Users\\PC\\miniconda3\\envs\\data_venv\\lib\\site-packages\\sklearn\\utils\\_array_api.py\", line 380, in _asarray_with_order\n    array = numpy.asarray(array, order=order, dtype=dtype)\n  File \"c:\\Users\\PC\\miniconda3\\envs\\data_venv\\lib\\site-packages\\pandas\\core\\generic.py\", line 2084, in __array__\n    arr = np.asarray(values, dtype=dtype)\nValueError: could not convert string to float: 'Thailand'\n",
          "output_type": "error",
          "traceback": [
            "\u001b[1;31m---------------------------------------------------------------------------\u001b[0m",
            "\u001b[1;31mValueError\u001b[0m                                Traceback (most recent call last)",
            "\u001b[1;32mc:\\Users\\PC\\git\\Data_Job_Analysis\\archive\\Salary_Prediction.ipynb Cell 37\u001b[0m line \u001b[0;36m1\n\u001b[0;32m     <a href='vscode-notebook-cell:/c%3A/Users/PC/git/Data_Job_Analysis/archive/Salary_Prediction.ipynb#X51sZmlsZQ%3D%3D?line=15'>16</a>\u001b[0m \u001b[39m# RandomizedSearchCV\u001b[39;00m\n\u001b[0;32m     <a href='vscode-notebook-cell:/c%3A/Users/PC/git/Data_Job_Analysis/archive/Salary_Prediction.ipynb#X51sZmlsZQ%3D%3D?line=16'>17</a>\u001b[0m random_search \u001b[39m=\u001b[39m RandomizedSearchCV(rf, param_distributions\u001b[39m=\u001b[39mparam_grid, n_iter\u001b[39m=\u001b[39m\u001b[39m10\u001b[39m, cv\u001b[39m=\u001b[39m\u001b[39m5\u001b[39m, scoring\u001b[39m=\u001b[39m\u001b[39m'\u001b[39m\u001b[39mneg_mean_squared_error\u001b[39m\u001b[39m'\u001b[39m, random_state\u001b[39m=\u001b[39m\u001b[39m42\u001b[39m)\n\u001b[1;32m---> <a href='vscode-notebook-cell:/c%3A/Users/PC/git/Data_Job_Analysis/archive/Salary_Prediction.ipynb#X51sZmlsZQ%3D%3D?line=17'>18</a>\u001b[0m random_search\u001b[39m.\u001b[39;49mfit(X_train, y_train)\n\u001b[0;32m     <a href='vscode-notebook-cell:/c%3A/Users/PC/git/Data_Job_Analysis/archive/Salary_Prediction.ipynb#X51sZmlsZQ%3D%3D?line=19'>20</a>\u001b[0m \u001b[39m# Get the best hyperparameters\u001b[39;00m\n\u001b[0;32m     <a href='vscode-notebook-cell:/c%3A/Users/PC/git/Data_Job_Analysis/archive/Salary_Prediction.ipynb#X51sZmlsZQ%3D%3D?line=20'>21</a>\u001b[0m best_params \u001b[39m=\u001b[39m random_search\u001b[39m.\u001b[39mbest_params_\n",
            "File \u001b[1;32mc:\\Users\\PC\\miniconda3\\envs\\data_venv\\lib\\site-packages\\sklearn\\base.py:1152\u001b[0m, in \u001b[0;36m_fit_context.<locals>.decorator.<locals>.wrapper\u001b[1;34m(estimator, *args, **kwargs)\u001b[0m\n\u001b[0;32m   1145\u001b[0m     estimator\u001b[39m.\u001b[39m_validate_params()\n\u001b[0;32m   1147\u001b[0m \u001b[39mwith\u001b[39;00m config_context(\n\u001b[0;32m   1148\u001b[0m     skip_parameter_validation\u001b[39m=\u001b[39m(\n\u001b[0;32m   1149\u001b[0m         prefer_skip_nested_validation \u001b[39mor\u001b[39;00m global_skip_validation\n\u001b[0;32m   1150\u001b[0m     )\n\u001b[0;32m   1151\u001b[0m ):\n\u001b[1;32m-> 1152\u001b[0m     \u001b[39mreturn\u001b[39;00m fit_method(estimator, \u001b[39m*\u001b[39margs, \u001b[39m*\u001b[39m\u001b[39m*\u001b[39mkwargs)\n",
            "File \u001b[1;32mc:\\Users\\PC\\miniconda3\\envs\\data_venv\\lib\\site-packages\\sklearn\\model_selection\\_search.py:898\u001b[0m, in \u001b[0;36mBaseSearchCV.fit\u001b[1;34m(self, X, y, groups, **fit_params)\u001b[0m\n\u001b[0;32m    892\u001b[0m     results \u001b[39m=\u001b[39m \u001b[39mself\u001b[39m\u001b[39m.\u001b[39m_format_results(\n\u001b[0;32m    893\u001b[0m         all_candidate_params, n_splits, all_out, all_more_results\n\u001b[0;32m    894\u001b[0m     )\n\u001b[0;32m    896\u001b[0m     \u001b[39mreturn\u001b[39;00m results\n\u001b[1;32m--> 898\u001b[0m \u001b[39mself\u001b[39;49m\u001b[39m.\u001b[39;49m_run_search(evaluate_candidates)\n\u001b[0;32m    900\u001b[0m \u001b[39m# multimetric is determined here because in the case of a callable\u001b[39;00m\n\u001b[0;32m    901\u001b[0m \u001b[39m# self.scoring the return type is only known after calling\u001b[39;00m\n\u001b[0;32m    902\u001b[0m first_test_score \u001b[39m=\u001b[39m all_out[\u001b[39m0\u001b[39m][\u001b[39m\"\u001b[39m\u001b[39mtest_scores\u001b[39m\u001b[39m\"\u001b[39m]\n",
            "File \u001b[1;32mc:\\Users\\PC\\miniconda3\\envs\\data_venv\\lib\\site-packages\\sklearn\\model_selection\\_search.py:1809\u001b[0m, in \u001b[0;36mRandomizedSearchCV._run_search\u001b[1;34m(self, evaluate_candidates)\u001b[0m\n\u001b[0;32m   1807\u001b[0m \u001b[39mdef\u001b[39;00m \u001b[39m_run_search\u001b[39m(\u001b[39mself\u001b[39m, evaluate_candidates):\n\u001b[0;32m   1808\u001b[0m \u001b[39m    \u001b[39m\u001b[39m\"\"\"Search n_iter candidates from param_distributions\"\"\"\u001b[39;00m\n\u001b[1;32m-> 1809\u001b[0m     evaluate_candidates(\n\u001b[0;32m   1810\u001b[0m         ParameterSampler(\n\u001b[0;32m   1811\u001b[0m             \u001b[39mself\u001b[39;49m\u001b[39m.\u001b[39;49mparam_distributions, \u001b[39mself\u001b[39;49m\u001b[39m.\u001b[39;49mn_iter, random_state\u001b[39m=\u001b[39;49m\u001b[39mself\u001b[39;49m\u001b[39m.\u001b[39;49mrandom_state\n\u001b[0;32m   1812\u001b[0m         )\n\u001b[0;32m   1813\u001b[0m     )\n",
            "File \u001b[1;32mc:\\Users\\PC\\miniconda3\\envs\\data_venv\\lib\\site-packages\\sklearn\\model_selection\\_search.py:875\u001b[0m, in \u001b[0;36mBaseSearchCV.fit.<locals>.evaluate_candidates\u001b[1;34m(candidate_params, cv, more_results)\u001b[0m\n\u001b[0;32m    868\u001b[0m \u001b[39melif\u001b[39;00m \u001b[39mlen\u001b[39m(out) \u001b[39m!=\u001b[39m n_candidates \u001b[39m*\u001b[39m n_splits:\n\u001b[0;32m    869\u001b[0m     \u001b[39mraise\u001b[39;00m \u001b[39mValueError\u001b[39;00m(\n\u001b[0;32m    870\u001b[0m         \u001b[39m\"\u001b[39m\u001b[39mcv.split and cv.get_n_splits returned \u001b[39m\u001b[39m\"\u001b[39m\n\u001b[0;32m    871\u001b[0m         \u001b[39m\"\u001b[39m\u001b[39minconsistent results. Expected \u001b[39m\u001b[39m{}\u001b[39;00m\u001b[39m \u001b[39m\u001b[39m\"\u001b[39m\n\u001b[0;32m    872\u001b[0m         \u001b[39m\"\u001b[39m\u001b[39msplits, got \u001b[39m\u001b[39m{}\u001b[39;00m\u001b[39m\"\u001b[39m\u001b[39m.\u001b[39mformat(n_splits, \u001b[39mlen\u001b[39m(out) \u001b[39m/\u001b[39m\u001b[39m/\u001b[39m n_candidates)\n\u001b[0;32m    873\u001b[0m     )\n\u001b[1;32m--> 875\u001b[0m _warn_or_raise_about_fit_failures(out, \u001b[39mself\u001b[39;49m\u001b[39m.\u001b[39;49merror_score)\n\u001b[0;32m    877\u001b[0m \u001b[39m# For callable self.scoring, the return type is only know after\u001b[39;00m\n\u001b[0;32m    878\u001b[0m \u001b[39m# calling. If the return type is a dictionary, the error scores\u001b[39;00m\n\u001b[0;32m    879\u001b[0m \u001b[39m# can now be inserted with the correct key. The type checking\u001b[39;00m\n\u001b[0;32m    880\u001b[0m \u001b[39m# of out will be done in `_insert_error_scores`.\u001b[39;00m\n\u001b[0;32m    881\u001b[0m \u001b[39mif\u001b[39;00m \u001b[39mcallable\u001b[39m(\u001b[39mself\u001b[39m\u001b[39m.\u001b[39mscoring):\n",
            "File \u001b[1;32mc:\\Users\\PC\\miniconda3\\envs\\data_venv\\lib\\site-packages\\sklearn\\model_selection\\_validation.py:414\u001b[0m, in \u001b[0;36m_warn_or_raise_about_fit_failures\u001b[1;34m(results, error_score)\u001b[0m\n\u001b[0;32m    407\u001b[0m \u001b[39mif\u001b[39;00m num_failed_fits \u001b[39m==\u001b[39m num_fits:\n\u001b[0;32m    408\u001b[0m     all_fits_failed_message \u001b[39m=\u001b[39m (\n\u001b[0;32m    409\u001b[0m         \u001b[39mf\u001b[39m\u001b[39m\"\u001b[39m\u001b[39m\\n\u001b[39;00m\u001b[39mAll the \u001b[39m\u001b[39m{\u001b[39;00mnum_fits\u001b[39m}\u001b[39;00m\u001b[39m fits failed.\u001b[39m\u001b[39m\\n\u001b[39;00m\u001b[39m\"\u001b[39m\n\u001b[0;32m    410\u001b[0m         \u001b[39m\"\u001b[39m\u001b[39mIt is very likely that your model is misconfigured.\u001b[39m\u001b[39m\\n\u001b[39;00m\u001b[39m\"\u001b[39m\n\u001b[0;32m    411\u001b[0m         \u001b[39m\"\u001b[39m\u001b[39mYou can try to debug the error by setting error_score=\u001b[39m\u001b[39m'\u001b[39m\u001b[39mraise\u001b[39m\u001b[39m'\u001b[39m\u001b[39m.\u001b[39m\u001b[39m\\n\u001b[39;00m\u001b[39m\\n\u001b[39;00m\u001b[39m\"\u001b[39m\n\u001b[0;32m    412\u001b[0m         \u001b[39mf\u001b[39m\u001b[39m\"\u001b[39m\u001b[39mBelow are more details about the failures:\u001b[39m\u001b[39m\\n\u001b[39;00m\u001b[39m{\u001b[39;00mfit_errors_summary\u001b[39m}\u001b[39;00m\u001b[39m\"\u001b[39m\n\u001b[0;32m    413\u001b[0m     )\n\u001b[1;32m--> 414\u001b[0m     \u001b[39mraise\u001b[39;00m \u001b[39mValueError\u001b[39;00m(all_fits_failed_message)\n\u001b[0;32m    416\u001b[0m \u001b[39melse\u001b[39;00m:\n\u001b[0;32m    417\u001b[0m     some_fits_failed_message \u001b[39m=\u001b[39m (\n\u001b[0;32m    418\u001b[0m         \u001b[39mf\u001b[39m\u001b[39m\"\u001b[39m\u001b[39m\\n\u001b[39;00m\u001b[39m{\u001b[39;00mnum_failed_fits\u001b[39m}\u001b[39;00m\u001b[39m fits failed out of a total of \u001b[39m\u001b[39m{\u001b[39;00mnum_fits\u001b[39m}\u001b[39;00m\u001b[39m.\u001b[39m\u001b[39m\\n\u001b[39;00m\u001b[39m\"\u001b[39m\n\u001b[0;32m    419\u001b[0m         \u001b[39m\"\u001b[39m\u001b[39mThe score on these train-test partitions for these parameters\u001b[39m\u001b[39m\"\u001b[39m\n\u001b[1;32m   (...)\u001b[0m\n\u001b[0;32m    423\u001b[0m         \u001b[39mf\u001b[39m\u001b[39m\"\u001b[39m\u001b[39mBelow are more details about the failures:\u001b[39m\u001b[39m\\n\u001b[39;00m\u001b[39m{\u001b[39;00mfit_errors_summary\u001b[39m}\u001b[39;00m\u001b[39m\"\u001b[39m\n\u001b[0;32m    424\u001b[0m     )\n",
            "\u001b[1;31mValueError\u001b[0m: \nAll the 50 fits failed.\nIt is very likely that your model is misconfigured.\nYou can try to debug the error by setting error_score='raise'.\n\nBelow are more details about the failures:\n--------------------------------------------------------------------------------\n10 fits failed with the following error:\nTraceback (most recent call last):\n  File \"c:\\Users\\PC\\miniconda3\\envs\\data_venv\\lib\\site-packages\\sklearn\\model_selection\\_validation.py\", line 729, in _fit_and_score\n    estimator.fit(X_train, y_train, **fit_params)\n  File \"c:\\Users\\PC\\miniconda3\\envs\\data_venv\\lib\\site-packages\\sklearn\\base.py\", line 1152, in wrapper\n    return fit_method(estimator, *args, **kwargs)\n  File \"c:\\Users\\PC\\miniconda3\\envs\\data_venv\\lib\\site-packages\\sklearn\\ensemble\\_forest.py\", line 348, in fit\n    X, y = self._validate_data(\n  File \"c:\\Users\\PC\\miniconda3\\envs\\data_venv\\lib\\site-packages\\sklearn\\base.py\", line 622, in _validate_data\n    X, y = check_X_y(X, y, **check_params)\n  File \"c:\\Users\\PC\\miniconda3\\envs\\data_venv\\lib\\site-packages\\sklearn\\utils\\validation.py\", line 1146, in check_X_y\n    X = check_array(\n  File \"c:\\Users\\PC\\miniconda3\\envs\\data_venv\\lib\\site-packages\\sklearn\\utils\\validation.py\", line 915, in check_array\n    array = _asarray_with_order(array, order=order, dtype=dtype, xp=xp)\n  File \"c:\\Users\\PC\\miniconda3\\envs\\data_venv\\lib\\site-packages\\sklearn\\utils\\_array_api.py\", line 380, in _asarray_with_order\n    array = numpy.asarray(array, order=order, dtype=dtype)\n  File \"c:\\Users\\PC\\miniconda3\\envs\\data_venv\\lib\\site-packages\\pandas\\core\\generic.py\", line 2084, in __array__\n    arr = np.asarray(values, dtype=dtype)\nValueError: could not convert string to float: 'Ha Noi'\n\n--------------------------------------------------------------------------------\n40 fits failed with the following error:\nTraceback (most recent call last):\n  File \"c:\\Users\\PC\\miniconda3\\envs\\data_venv\\lib\\site-packages\\sklearn\\model_selection\\_validation.py\", line 729, in _fit_and_score\n    estimator.fit(X_train, y_train, **fit_params)\n  File \"c:\\Users\\PC\\miniconda3\\envs\\data_venv\\lib\\site-packages\\sklearn\\base.py\", line 1152, in wrapper\n    return fit_method(estimator, *args, **kwargs)\n  File \"c:\\Users\\PC\\miniconda3\\envs\\data_venv\\lib\\site-packages\\sklearn\\ensemble\\_forest.py\", line 348, in fit\n    X, y = self._validate_data(\n  File \"c:\\Users\\PC\\miniconda3\\envs\\data_venv\\lib\\site-packages\\sklearn\\base.py\", line 622, in _validate_data\n    X, y = check_X_y(X, y, **check_params)\n  File \"c:\\Users\\PC\\miniconda3\\envs\\data_venv\\lib\\site-packages\\sklearn\\utils\\validation.py\", line 1146, in check_X_y\n    X = check_array(\n  File \"c:\\Users\\PC\\miniconda3\\envs\\data_venv\\lib\\site-packages\\sklearn\\utils\\validation.py\", line 915, in check_array\n    array = _asarray_with_order(array, order=order, dtype=dtype, xp=xp)\n  File \"c:\\Users\\PC\\miniconda3\\envs\\data_venv\\lib\\site-packages\\sklearn\\utils\\_array_api.py\", line 380, in _asarray_with_order\n    array = numpy.asarray(array, order=order, dtype=dtype)\n  File \"c:\\Users\\PC\\miniconda3\\envs\\data_venv\\lib\\site-packages\\pandas\\core\\generic.py\", line 2084, in __array__\n    arr = np.asarray(values, dtype=dtype)\nValueError: could not convert string to float: 'Thailand'\n"
          ]
        }
      ],
      "source": [
        "from sklearn.ensemble import RandomForestRegressor\n",
        "from sklearn.model_selection import RandomizedSearchCV\n",
        "\n",
        "# Define the parameter grid to search over\n",
        "param_grid = {\n",
        "    'n_estimators': [100, 200, 300],\n",
        "    'max_depth': [None, 10, 20, 30],\n",
        "    'min_samples_split': [2, 5, 10],\n",
        "    'min_samples_leaf': [1, 2, 4],\n",
        "    'max_features': ['sqrt', 'log2']\n",
        "}\n",
        "\n",
        "# Create the random forest regressor\n",
        "rf = RandomForestRegressor(random_state=42)\n",
        "\n",
        "# RandomizedSearchCV\n",
        "random_search = RandomizedSearchCV(rf, param_distributions=param_grid, n_iter=10, cv=5, scoring='neg_mean_squared_error', random_state=42)\n",
        "random_search.fit(X_train, y_train)\n",
        "\n",
        "# Get the best hyperparameters\n",
        "best_params = random_search.best_params_\n",
        "print(\"Best Hyperparameters:\", best_params)\n",
        "\n",
        "# Train the model with the best hyperparameters\n",
        "best_rf = RandomForestRegressor(random_state=42, **best_params)\n",
        "best_rf.fit(X_train, y_train)\n",
        "\n",
        "# Evaluate the model on the test set\n",
        "y_pred = best_rf.predict(X_test)\n",
        "\n",
        "# Best Hyperparameters: {'n_estimators': 100, 'min_samples_split': 2, 'min_samples_leaf': 4, 'max_features': 'auto', 'max_depth': 20}\n",
        "\n",
        "mae = mean_absolute_error(y_test, y_pred)\n",
        "print(\"Mean Absolute Error:\", mae)"
      ]
    },
    {
      "cell_type": "markdown",
      "metadata": {
        "id": "n0IleWdX_jjf"
      },
      "source": [
        "The orignial model gave a MAE of nearly 652. Given the average salary is $2200 per month, MAE is rather high.\n",
        "\n",
        "Using RandomForest tree assemble method, we managed to get MAE down to 623\n",
        "\n",
        "Let's see if other models can give a better result"
      ]
    },
    {
      "cell_type": "markdown",
      "metadata": {
        "id": "3SjbW1PxGCEc"
      },
      "source": [
        "# <a name = \"DE\">Focus on Data Engineer jobs</a>"
      ]
    },
    {
      "cell_type": "code",
      "execution_count": 32,
      "metadata": {
        "colab": {
          "base_uri": "https://localhost:8080/"
        },
        "id": "hOauP0r8_4qu",
        "outputId": "54042d4c-8620-4688-ff5c-f0b63589115d"
      },
      "outputs": [],
      "source": [
        "#create another dataset and another table skills applicable only to DE\n",
        "de_df = df[df['Data_Engineer'] == 1]\n",
        "\n",
        "de_skills = create_skill_encoding_table(skills, de_df['Job_Description'])\n",
        "\n"
      ]
    },
    {
      "cell_type": "code",
      "execution_count": 33,
      "metadata": {
        "colab": {
          "base_uri": "https://localhost:8080/"
        },
        "id": "JEeck11oGs1G",
        "outputId": "64d84741-9f8f-4d28-f1b7-74091190dd8a"
      },
      "outputs": [
        {
          "name": "stdout",
          "output_type": "stream",
          "text": [
            "Mean Absolute Error: 518.8226807845266\n"
          ]
        },
        {
          "name": "stderr",
          "output_type": "stream",
          "text": [
            "C:\\Users\\PC\\AppData\\Local\\Temp\\ipykernel_38600\\2352690664.py:25: SettingWithCopyWarning: \n",
            "A value is trying to be set on a copy of a slice from a DataFrame.\n",
            "Try using .loc[row_indexer,col_indexer] = value instead\n",
            "\n",
            "See the caveats in the documentation: https://pandas.pydata.org/pandas-docs/stable/user_guide/indexing.html#returning-a-view-versus-a-copy\n",
            "  df[col] = label_encoder.fit_transform(df[col])\n",
            "C:\\Users\\PC\\AppData\\Local\\Temp\\ipykernel_38600\\2352690664.py:25: SettingWithCopyWarning: \n",
            "A value is trying to be set on a copy of a slice from a DataFrame.\n",
            "Try using .loc[row_indexer,col_indexer] = value instead\n",
            "\n",
            "See the caveats in the documentation: https://pandas.pydata.org/pandas-docs/stable/user_guide/indexing.html#returning-a-view-versus-a-copy\n",
            "  df[col] = label_encoder.fit_transform(df[col])\n",
            "C:\\Users\\PC\\AppData\\Local\\Temp\\ipykernel_38600\\2352690664.py:31: SettingWithCopyWarning: \n",
            "A value is trying to be set on a copy of a slice from a DataFrame\n",
            "\n",
            "See the caveats in the documentation: https://pandas.pydata.org/pandas-docs/stable/user_guide/indexing.html#returning-a-view-versus-a-copy\n",
            "  df.fillna(value=float('NaN'), inplace=True)\n"
          ]
        }
      ],
      "source": [
        "# Engineer the features\n",
        "combined_de_df = feature_engineer(de_df,col_to_lbl=['Location','W_Term']) #(df, col_to_avg=None, col_to_encode=None, col_to_lbl=None, fill='NaN')\n",
        "\n",
        "# Select the relevant features\n",
        "de_features = ['YOE', 'Min_Level', 'Remote','W_Term','Location','VN']\n",
        "\n",
        "X_de_train, X_de_test, y_de_train, y_de_test = feature_select(combined_de_df, de_features, de_skills)\n",
        "\n",
        "# Create and train the model (Random Forest Regressor, for example)\n",
        "de_model = xgb.XGBRegressor(objective='reg:squarederror', random_state=42)  \n",
        "de_model.fit(X_de_train, y_de_train)\n",
        "\n",
        "# Make predictions\n",
        "y_de_pred = de_model.predict(X_de_train)\n",
        "\n",
        "# Evaluate the model\n",
        "de_mae = mean_absolute_error(y_de_train, y_de_pred)\n",
        "print(\"Mean Absolute Error:\", de_mae)"
      ]
    },
    {
      "cell_type": "markdown",
      "metadata": {
        "id": "oNUi-hlPIFVL"
      },
      "source": [
        "Without hyper-parameter tuning, MAE of DE jobs salary prediction reduced to 571, that is promising"
      ]
    },
    {
      "cell_type": "code",
      "execution_count": 34,
      "metadata": {
        "colab": {
          "base_uri": "https://localhost:8080/"
        },
        "id": "fMOmh8dBIP7C",
        "outputId": "567bc318-4ec6-447c-b6b2-f128af65ab47"
      },
      "outputs": [
        {
          "name": "stdout",
          "output_type": "stream",
          "text": [
            "Best Hyperparameters: {'n_estimators': 200, 'min_samples_split': 5, 'min_samples_leaf': 1, 'max_features': 'log2', 'max_depth': 20}\n",
            "Mean Absolute Error: 656.9053281185269\n"
          ]
        }
      ],
      "source": [
        "# Define the parameter grid to search over\n",
        "\n",
        "param_grid = {\n",
        "    'n_estimators': [100, 200, 300],\n",
        "    'max_depth': [None, 10, 20, 30],\n",
        "    'min_samples_split': [2, 5, 10],\n",
        "    'min_samples_leaf': [1, 2, 4],\n",
        "    'max_features': ['sqrt', 'log2']\n",
        "}\n",
        "\n",
        "# Create the random forest regressor\n",
        "rf = RandomForestRegressor(random_state=42)\n",
        "\n",
        "# RandomizedSearchCV\n",
        "de_random_search = RandomizedSearchCV(rf, param_distributions=param_grid, n_iter=10, cv=5, scoring='neg_mean_squared_error', random_state=42)\n",
        "\n",
        "de_random_search.fit(X_de_train, y_de_train)\n",
        "\n",
        "# Get the best hyperparameters\n",
        "de_best_params = de_random_search.best_params_\n",
        "print(\"Best Hyperparameters:\", de_best_params)\n",
        "\n",
        "# Train the model with the best hyperparameters\n",
        "de_best_rf = RandomForestRegressor(random_state=42, **de_best_params)\n",
        "de_best_rf.fit(X_de_train, y_de_train)\n",
        "\n",
        "# Evaluate the model on the test set\n",
        "y_de_pred = de_best_rf.predict(X_de_test)\n",
        "\n",
        "# Best Hyperparameters: {'n_estimators': 100, 'min_samples_split': 2, 'min_samples_leaf': 4, 'max_features': 'auto', 'max_depth': 20}\n",
        "\n",
        "mae_de = mean_absolute_error(y_de_test, y_de_pred)\n",
        "print(\"Mean Absolute Error:\", mae_de)"
      ]
    },
    {
      "cell_type": "markdown",
      "metadata": {
        "id": "Atf_CY0mJ52t"
      },
      "source": [
        "MAE = 625. It appears random forest cannot optimize better XGBoost in this case.\n",
        "\n",
        "Let's see if a polynomial regression model could do better"
      ]
    },
    {
      "cell_type": "markdown",
      "metadata": {
        "id": "dbKzSf9YGJ8m"
      },
      "source": [
        "# <a name = \"poly\">Polynomial regression</a>"
      ]
    },
    {
      "cell_type": "code",
      "execution_count": 51,
      "metadata": {},
      "outputs": [],
      "source": [
        "technical_skills = [\n",
        "    'python','r','c','c++','java','hadoop','scala','flask','pandas',\n",
        "    'spark','scikit','numpy','php','sql','mysql','css','mongodb','nltk',\n",
        "    'keras','pytorch','tensorflow','linux','ruby','javascript','django',\n",
        "    'react','reactjs','ai','artificial intelligence','ui', 'skicit',\n",
        "    'tableau','power bi','machine learning','frontend','big data',\n",
        "    'data mining','data warehousing','data visualization','data engineering',\n",
        "    'data modeling','data governance','data analytics','statistical analysis',\n",
        "    'natural language processing', 'computer vision','deep learning',\n",
        "    'data preprocessing','etl','data quality management','excel','vba','gcp'\n",
        "    ]"
      ]
    },
    {
      "cell_type": "code",
      "execution_count": 127,
      "metadata": {},
      "outputs": [],
      "source": [
        "new_df = pd.read_csv('..\\dataset\\merged_files.csv')\n"
      ]
    },
    {
      "cell_type": "code",
      "execution_count": 150,
      "metadata": {},
      "outputs": [],
      "source": [
        "new_df = new_df[new_df['Est_Salary'] <= 4300]\n",
        "new_df = new_df.dropna(subset=['Est_Salary','Job_Description','YOE'])"
      ]
    },
    {
      "cell_type": "code",
      "execution_count": 152,
      "metadata": {},
      "outputs": [],
      "source": [
        "\n",
        "tech_skill_table=create_skill_encoding_table(technical_skills,new_df['Job_Description'])"
      ]
    },
    {
      "cell_type": "code",
      "execution_count": 111,
      "metadata": {},
      "outputs": [
        {
          "data": {
            "text/html": [
              "<div>\n",
              "<style scoped>\n",
              "    .dataframe tbody tr th:only-of-type {\n",
              "        vertical-align: middle;\n",
              "    }\n",
              "\n",
              "    .dataframe tbody tr th {\n",
              "        vertical-align: top;\n",
              "    }\n",
              "\n",
              "    .dataframe thead th {\n",
              "        text-align: right;\n",
              "    }\n",
              "</style>\n",
              "<table border=\"1\" class=\"dataframe\">\n",
              "  <thead>\n",
              "    <tr style=\"text-align: right;\">\n",
              "      <th></th>\n",
              "      <th>python</th>\n",
              "      <th>r</th>\n",
              "      <th>c</th>\n",
              "      <th>c++</th>\n",
              "      <th>java</th>\n",
              "      <th>hadoop</th>\n",
              "      <th>scala</th>\n",
              "      <th>flask</th>\n",
              "      <th>pandas</th>\n",
              "      <th>spark</th>\n",
              "      <th>...</th>\n",
              "      <th>statistical analysis</th>\n",
              "      <th>natural language processing</th>\n",
              "      <th>computer vision</th>\n",
              "      <th>deep learning</th>\n",
              "      <th>data preprocessing</th>\n",
              "      <th>etl</th>\n",
              "      <th>data quality management</th>\n",
              "      <th>excel</th>\n",
              "      <th>vba</th>\n",
              "      <th>gcp</th>\n",
              "    </tr>\n",
              "  </thead>\n",
              "  <tbody>\n",
              "    <tr>\n",
              "      <th>0</th>\n",
              "      <td>0</td>\n",
              "      <td>0</td>\n",
              "      <td>0</td>\n",
              "      <td>0</td>\n",
              "      <td>0</td>\n",
              "      <td>0</td>\n",
              "      <td>0</td>\n",
              "      <td>0</td>\n",
              "      <td>0</td>\n",
              "      <td>0</td>\n",
              "      <td>...</td>\n",
              "      <td>0</td>\n",
              "      <td>0</td>\n",
              "      <td>0</td>\n",
              "      <td>0</td>\n",
              "      <td>0</td>\n",
              "      <td>0</td>\n",
              "      <td>0</td>\n",
              "      <td>0</td>\n",
              "      <td>0</td>\n",
              "      <td>0</td>\n",
              "    </tr>\n",
              "    <tr>\n",
              "      <th>1</th>\n",
              "      <td>0</td>\n",
              "      <td>0</td>\n",
              "      <td>0</td>\n",
              "      <td>0</td>\n",
              "      <td>0</td>\n",
              "      <td>0</td>\n",
              "      <td>0</td>\n",
              "      <td>0</td>\n",
              "      <td>1</td>\n",
              "      <td>0</td>\n",
              "      <td>...</td>\n",
              "      <td>0</td>\n",
              "      <td>0</td>\n",
              "      <td>0</td>\n",
              "      <td>0</td>\n",
              "      <td>0</td>\n",
              "      <td>0</td>\n",
              "      <td>0</td>\n",
              "      <td>0</td>\n",
              "      <td>0</td>\n",
              "      <td>0</td>\n",
              "    </tr>\n",
              "    <tr>\n",
              "      <th>2</th>\n",
              "      <td>0</td>\n",
              "      <td>0</td>\n",
              "      <td>0</td>\n",
              "      <td>0</td>\n",
              "      <td>0</td>\n",
              "      <td>0</td>\n",
              "      <td>0</td>\n",
              "      <td>0</td>\n",
              "      <td>0</td>\n",
              "      <td>0</td>\n",
              "      <td>...</td>\n",
              "      <td>0</td>\n",
              "      <td>0</td>\n",
              "      <td>0</td>\n",
              "      <td>0</td>\n",
              "      <td>0</td>\n",
              "      <td>0</td>\n",
              "      <td>0</td>\n",
              "      <td>0</td>\n",
              "      <td>0</td>\n",
              "      <td>0</td>\n",
              "    </tr>\n",
              "    <tr>\n",
              "      <th>3</th>\n",
              "      <td>0</td>\n",
              "      <td>0</td>\n",
              "      <td>0</td>\n",
              "      <td>0</td>\n",
              "      <td>0</td>\n",
              "      <td>0</td>\n",
              "      <td>0</td>\n",
              "      <td>0</td>\n",
              "      <td>0</td>\n",
              "      <td>0</td>\n",
              "      <td>...</td>\n",
              "      <td>0</td>\n",
              "      <td>0</td>\n",
              "      <td>0</td>\n",
              "      <td>0</td>\n",
              "      <td>0</td>\n",
              "      <td>0</td>\n",
              "      <td>0</td>\n",
              "      <td>0</td>\n",
              "      <td>0</td>\n",
              "      <td>0</td>\n",
              "    </tr>\n",
              "    <tr>\n",
              "      <th>4</th>\n",
              "      <td>0</td>\n",
              "      <td>0</td>\n",
              "      <td>0</td>\n",
              "      <td>0</td>\n",
              "      <td>0</td>\n",
              "      <td>0</td>\n",
              "      <td>0</td>\n",
              "      <td>0</td>\n",
              "      <td>0</td>\n",
              "      <td>0</td>\n",
              "      <td>...</td>\n",
              "      <td>0</td>\n",
              "      <td>0</td>\n",
              "      <td>0</td>\n",
              "      <td>0</td>\n",
              "      <td>0</td>\n",
              "      <td>0</td>\n",
              "      <td>0</td>\n",
              "      <td>0</td>\n",
              "      <td>0</td>\n",
              "      <td>0</td>\n",
              "    </tr>\n",
              "    <tr>\n",
              "      <th>...</th>\n",
              "      <td>...</td>\n",
              "      <td>...</td>\n",
              "      <td>...</td>\n",
              "      <td>...</td>\n",
              "      <td>...</td>\n",
              "      <td>...</td>\n",
              "      <td>...</td>\n",
              "      <td>...</td>\n",
              "      <td>...</td>\n",
              "      <td>...</td>\n",
              "      <td>...</td>\n",
              "      <td>...</td>\n",
              "      <td>...</td>\n",
              "      <td>...</td>\n",
              "      <td>...</td>\n",
              "      <td>...</td>\n",
              "      <td>...</td>\n",
              "      <td>...</td>\n",
              "      <td>...</td>\n",
              "      <td>...</td>\n",
              "      <td>...</td>\n",
              "    </tr>\n",
              "    <tr>\n",
              "      <th>2741</th>\n",
              "      <td>0</td>\n",
              "      <td>0</td>\n",
              "      <td>0</td>\n",
              "      <td>0</td>\n",
              "      <td>0</td>\n",
              "      <td>0</td>\n",
              "      <td>0</td>\n",
              "      <td>0</td>\n",
              "      <td>0</td>\n",
              "      <td>0</td>\n",
              "      <td>...</td>\n",
              "      <td>0</td>\n",
              "      <td>0</td>\n",
              "      <td>0</td>\n",
              "      <td>0</td>\n",
              "      <td>0</td>\n",
              "      <td>0</td>\n",
              "      <td>0</td>\n",
              "      <td>0</td>\n",
              "      <td>0</td>\n",
              "      <td>0</td>\n",
              "    </tr>\n",
              "    <tr>\n",
              "      <th>2742</th>\n",
              "      <td>0</td>\n",
              "      <td>0</td>\n",
              "      <td>0</td>\n",
              "      <td>0</td>\n",
              "      <td>0</td>\n",
              "      <td>0</td>\n",
              "      <td>0</td>\n",
              "      <td>0</td>\n",
              "      <td>0</td>\n",
              "      <td>0</td>\n",
              "      <td>...</td>\n",
              "      <td>0</td>\n",
              "      <td>0</td>\n",
              "      <td>0</td>\n",
              "      <td>0</td>\n",
              "      <td>0</td>\n",
              "      <td>0</td>\n",
              "      <td>0</td>\n",
              "      <td>0</td>\n",
              "      <td>0</td>\n",
              "      <td>0</td>\n",
              "    </tr>\n",
              "    <tr>\n",
              "      <th>2743</th>\n",
              "      <td>0</td>\n",
              "      <td>0</td>\n",
              "      <td>0</td>\n",
              "      <td>0</td>\n",
              "      <td>0</td>\n",
              "      <td>0</td>\n",
              "      <td>0</td>\n",
              "      <td>0</td>\n",
              "      <td>0</td>\n",
              "      <td>0</td>\n",
              "      <td>...</td>\n",
              "      <td>0</td>\n",
              "      <td>0</td>\n",
              "      <td>0</td>\n",
              "      <td>0</td>\n",
              "      <td>0</td>\n",
              "      <td>0</td>\n",
              "      <td>0</td>\n",
              "      <td>0</td>\n",
              "      <td>0</td>\n",
              "      <td>0</td>\n",
              "    </tr>\n",
              "    <tr>\n",
              "      <th>2744</th>\n",
              "      <td>1</td>\n",
              "      <td>0</td>\n",
              "      <td>0</td>\n",
              "      <td>0</td>\n",
              "      <td>0</td>\n",
              "      <td>0</td>\n",
              "      <td>0</td>\n",
              "      <td>0</td>\n",
              "      <td>0</td>\n",
              "      <td>1</td>\n",
              "      <td>...</td>\n",
              "      <td>0</td>\n",
              "      <td>0</td>\n",
              "      <td>0</td>\n",
              "      <td>0</td>\n",
              "      <td>0</td>\n",
              "      <td>1</td>\n",
              "      <td>0</td>\n",
              "      <td>0</td>\n",
              "      <td>0</td>\n",
              "      <td>0</td>\n",
              "    </tr>\n",
              "    <tr>\n",
              "      <th>2745</th>\n",
              "      <td>0</td>\n",
              "      <td>0</td>\n",
              "      <td>0</td>\n",
              "      <td>0</td>\n",
              "      <td>0</td>\n",
              "      <td>0</td>\n",
              "      <td>0</td>\n",
              "      <td>0</td>\n",
              "      <td>0</td>\n",
              "      <td>0</td>\n",
              "      <td>...</td>\n",
              "      <td>0</td>\n",
              "      <td>0</td>\n",
              "      <td>0</td>\n",
              "      <td>0</td>\n",
              "      <td>0</td>\n",
              "      <td>0</td>\n",
              "      <td>0</td>\n",
              "      <td>0</td>\n",
              "      <td>0</td>\n",
              "      <td>0</td>\n",
              "    </tr>\n",
              "  </tbody>\n",
              "</table>\n",
              "<p>2746 rows × 53 columns</p>\n",
              "</div>"
            ],
            "text/plain": [
              "      python  r  c  c++  java  hadoop  scala  flask  pandas  spark  ...  \\\n",
              "0          0  0  0    0     0       0      0      0       0      0  ...   \n",
              "1          0  0  0    0     0       0      0      0       1      0  ...   \n",
              "2          0  0  0    0     0       0      0      0       0      0  ...   \n",
              "3          0  0  0    0     0       0      0      0       0      0  ...   \n",
              "4          0  0  0    0     0       0      0      0       0      0  ...   \n",
              "...      ... .. ..  ...   ...     ...    ...    ...     ...    ...  ...   \n",
              "2741       0  0  0    0     0       0      0      0       0      0  ...   \n",
              "2742       0  0  0    0     0       0      0      0       0      0  ...   \n",
              "2743       0  0  0    0     0       0      0      0       0      0  ...   \n",
              "2744       1  0  0    0     0       0      0      0       0      1  ...   \n",
              "2745       0  0  0    0     0       0      0      0       0      0  ...   \n",
              "\n",
              "      statistical analysis  natural language processing  computer vision  \\\n",
              "0                        0                            0                0   \n",
              "1                        0                            0                0   \n",
              "2                        0                            0                0   \n",
              "3                        0                            0                0   \n",
              "4                        0                            0                0   \n",
              "...                    ...                          ...              ...   \n",
              "2741                     0                            0                0   \n",
              "2742                     0                            0                0   \n",
              "2743                     0                            0                0   \n",
              "2744                     0                            0                0   \n",
              "2745                     0                            0                0   \n",
              "\n",
              "      deep learning  data preprocessing  etl  data quality management  excel  \\\n",
              "0                 0                   0    0                        0      0   \n",
              "1                 0                   0    0                        0      0   \n",
              "2                 0                   0    0                        0      0   \n",
              "3                 0                   0    0                        0      0   \n",
              "4                 0                   0    0                        0      0   \n",
              "...             ...                 ...  ...                      ...    ...   \n",
              "2741              0                   0    0                        0      0   \n",
              "2742              0                   0    0                        0      0   \n",
              "2743              0                   0    0                        0      0   \n",
              "2744              0                   0    1                        0      0   \n",
              "2745              0                   0    0                        0      0   \n",
              "\n",
              "      vba  gcp  \n",
              "0       0    0  \n",
              "1       0    0  \n",
              "2       0    0  \n",
              "3       0    0  \n",
              "4       0    0  \n",
              "...   ...  ...  \n",
              "2741    0    0  \n",
              "2742    0    0  \n",
              "2743    0    0  \n",
              "2744    0    0  \n",
              "2745    0    0  \n",
              "\n",
              "[2746 rows x 53 columns]"
            ]
          },
          "execution_count": 111,
          "metadata": {},
          "output_type": "execute_result"
        }
      ],
      "source": [
        "tech_skill_table"
      ]
    },
    {
      "cell_type": "code",
      "execution_count": 155,
      "metadata": {
        "colab": {
          "base_uri": "https://localhost:8080/",
          "height": 606
        },
        "id": "maMEcmSg3YhS",
        "outputId": "5cfa4bab-1a1f-45f4-c355-21a49af1a062"
      },
      "outputs": [
        {
          "name": "stdout",
          "output_type": "stream",
          "text": [
            "Mean Absolute Error: 456.2362372286202\n",
            "R-squared: 0.5644483501906868\n"
          ]
        }
      ],
      "source": [
        "\n",
        "from sklearn.preprocessing import PolynomialFeatures\n",
        "from sklearn.linear_model import LinearRegression\n",
        "from sklearn.metrics import mean_squared_error, r2_score\n",
        "from sklearn.preprocessing import OneHotEncoder\n",
        "\n",
        "# Select features and target variable\n",
        "features = ['YOE', 'Min_level', 'Max_level','Remote', 'VN','Overseas','Bachelor','Master','PhD',\n",
        "            'Data_Engineer', 'Data_Analyst', 'Data_Scientist', 'Business_Analyst', 'Business_Intelligence',\n",
        "            'Others'\n",
        "            ]\n",
        "target = 'Est_Salary'\n",
        "y = new_df[target]\n",
        "X_train, X_test, y_train, y_test  = feature_select(new_df,features)\n",
        "\n",
        "\n",
        "# Create polynomial features (degree=3)\n",
        "poly = PolynomialFeatures(degree=2)\n",
        "X_train_poly = poly.fit_transform(X_train)\n",
        "X_test_poly = poly.transform(X_test)\n",
        "\n",
        "# Train the polynomial regression model\n",
        "model = LinearRegression()\n",
        "model.fit(X_train_poly, y_train)\n",
        "\n",
        "# Predict salaries\n",
        "y_pred = model.predict(X_test_poly)\n",
        "\n",
        "# Evaluate the model\n",
        "mse = mean_squared_error(y_test, y_pred)\n",
        "mae = mean_absolute_error(y_test, y_pred)\n",
        "r2 = r2_score(y_test, y_pred)\n",
        "\n",
        "print(f\"Mean Absolute Error: {mae}\")\n",
        "print(f\"R-squared: {r2}\")\n",
        "\n",
        "X_all = new_df[features]\n",
        "X_all_poly = poly.transform(X_all)\n",
        "new_df['predicted_salary'] = model.predict(X_all_poly)\n",
        "\n",
        "# Save to a new CSV file\n",
        "new_df.to_csv('../dataset/predicted_salaries.csv', index=False)\n"
      ]
    },
    {
      "cell_type": "code",
      "execution_count": 159,
      "metadata": {},
      "outputs": [
        {
          "data": {
            "image/png": "[encoded data removed]",
            "text/plain": [
              "<Figure size 800x600 with 1 Axes>"
            ]
          },
          "metadata": {},
          "output_type": "display_data"
        }
      ],
      "source": [
        "# Plotting the comparison between Est_Salary and Predicted_salary\n",
        "plt.figure(figsize=(8, 6))\n",
        "plt.scatter(new_df['Est_Salary'], new_df['predicted_salary'], color='blue', label='Predicted Salary', alpha=0.5)\n",
        "plt.scatter(new_df['Est_Salary'], new_df['Est_Salary'], color='red', label='Actual Salary', alpha=0.5)\n",
        "plt.xlabel('Actual Salary (Est_Salary)')\n",
        "plt.ylabel('Predicted Salary')\n",
        "plt.title('Comparison of Actual vs Predicted Salaries')\n",
        "plt.legend()\n",
        "plt.grid(True)\n",
        "plt.show()"
      ]
    },
    {
      "cell_type": "code",
      "execution_count": 160,
      "metadata": {},
      "outputs": [
        {
          "data": {
            "image/png": "[encoded data removed]",
            "text/plain": [
              "<Figure size 800x600 with 1 Axes>"
            ]
          },
          "metadata": {},
          "output_type": "display_data"
        }
      ],
      "source": [
        "\n",
        "# Set a threshold for the difference between predicted and actual salaries\n",
        "threshold = 1000  # Adjust the threshold as needed\n",
        "\n",
        "# Filter data based on the threshold\n",
        "filtered_data = new_df[abs(new_df['Est_Salary'] - new_df['predicted_salary']) > threshold]\n",
        "\n",
        "# Plotting the comparison between Est_Salary and Predicted_salary for the filtered data\n",
        "plt.figure(figsize=(8, 6))\n",
        "plt.scatter(filtered_data['Est_Salary'], filtered_data['predicted_salary'], color='blue', label='Predicted Salary', alpha=0.5)\n",
        "plt.scatter(filtered_data['Est_Salary'], filtered_data['Est_Salary'], color='red', label='Actual Salary', alpha=0.5)\n",
        "plt.xlabel('Actual Salary (Est_Salary)')\n",
        "plt.ylabel('Predicted Salary')\n",
        "plt.title(f'Comparison of Actual vs Predicted Salaries (Threshold: ±{threshold})')\n",
        "plt.legend()\n",
        "plt.grid(True)\n",
        "plt.show()\n"
      ]
    },
    {
      "cell_type": "code",
      "execution_count": 164,
      "metadata": {},
      "outputs": [
        {
          "name": "stdout",
          "output_type": "stream",
          "text": [
            "[]\n"
          ]
        }
      ],
      "source": []
    },
    {
      "cell_type": "code",
      "execution_count": 149,
      "metadata": {},
      "outputs": [
        {
          "data": {
            "image/png": "[encoded data removed]",
            "text/plain": [
              "<Figure size 1000x600 with 2 Axes>"
            ]
          },
          "metadata": {},
          "output_type": "display_data"
        }
      ],
      "source": [
        "# Create an empty dictionary to store results\n",
        "results = {'Cutoff': [], 'MAE': [], 'R2': []}\n",
        "features = ['YOE', 'Min_level', 'Max_level','Remote', 'VN','Overseas','Bachelor','Master','PhD',\n",
        "            'Data_Engineer', 'Data_Analyst', 'Data_Scientist', 'Business_Analyst', 'Business_Intelligence',\n",
        "            'Others'\n",
        "            ]\n",
        "target = 'Est_Salary'\n",
        "\n",
        "# Iterate through different cutoff values\n",
        "for cutoff in range(3000, 10000, 200):  # Adjust the range and step as needed\n",
        "    temp_df = new_df[new_df['Est_Salary'] <= cutoff].dropna(subset=['Est_Salary','Job_Description','YOE'])\n",
        "    \n",
        "    \n",
        "    y = temp_df[target]\n",
        "    X_train, X_test, y_train, y_test = feature_select(temp_df, features)\n",
        "\n",
        "    poly = PolynomialFeatures(degree=2)\n",
        "    X_train_poly = poly.fit_transform(X_train)\n",
        "    X_test_poly = poly.transform(X_test)\n",
        "\n",
        "    model = LinearRegression()\n",
        "    model.fit(X_train_poly, y_train)\n",
        "    y_pred = model.predict(X_test_poly)\n",
        "\n",
        "    mse = mean_squared_error(y_test, y_pred)\n",
        "    mae = mean_absolute_error(y_test, y_pred)\n",
        "    r2 = r2_score(y_test, y_pred)\n",
        "\n",
        "    # Store results\n",
        "    results['Cutoff'].append(cutoff)\n",
        "    results['MAE'].append(mae)\n",
        "    results['R2'].append(r2)\n",
        "\n",
        "# Plot MAE and R2 against different cutoff values\n",
        "# Plot MAE and R2 against different cutoff values with logarithmic scale for y-axes\n",
        "fig, ax1 = plt.subplots(figsize=(10, 6))\n",
        "\n",
        "color = 'tab:red'\n",
        "ax1.set_xlabel('Salary Cutoff')\n",
        "ax1.set_ylabel('Mean Absolute Error', color=color)\n",
        "ax1.plot(results['Cutoff'], results['MAE'], color=color)\n",
        "ax1.tick_params(axis='y', labelcolor=color)\n",
        "\n",
        "\n",
        "ax2 = ax1.twinx()  # instantiate a second axes that shares the same x-axis\n",
        "color = 'tab:blue'\n",
        "ax2.set_ylabel('R-squared', color=color)\n",
        "ax2.plot(results['Cutoff'], results['R2'], color=color)\n",
        "ax2.tick_params(axis='y', labelcolor=color)\n",
        "\n",
        "fig.tight_layout()  # otherwise the right y-label is slightly clipped\n",
        "plt.title('Effect of Salary Cutoff on Model Performance')\n",
        "plt.show()"
      ]
    },
    {
      "cell_type": "code",
      "execution_count": 3,
      "metadata": {},
      "outputs": [
        {
          "data": {
            "text/plain": [
              "False"
            ]
          },
          "execution_count": 3,
          "metadata": {},
          "output_type": "execute_result"
        }
      ],
      "source": [
        "\n"
      ]
    },
    {
      "cell_type": "markdown",
      "metadata": {
        "id": "NJ_zSBU5HfkO"
      },
      "source": [
        "In this case, MAE = 647"
      ]
    },
    {
      "cell_type": "markdown",
      "metadata": {
        "id": "_JPd-fx2CqsV"
      },
      "source": [
        "\n",
        "\n",
        "#<a name = \"Conclusion\">Conclusion</a>\n",
        "It's safe to conclude with further fine-tuning and model selection, we can get a better result. However, given that the low quality of the dataset, we can get to a highest 77% accuracy (2450-571/2450) prediction which is not too bad. During running some other tests I could lower MAE to 510"
      ]
    },
    {
      "cell_type": "code",
      "execution_count": null,
      "metadata": {
        "colab": {
          "base_uri": "https://localhost:8080/"
        },
        "id": "88swP-hSCqbY",
        "outputId": "e6b953b3-44b7-459a-86df-5d2bc60233d7"
      },
      "outputs": [],
      "source": [
        "de_df['Est_Salary'].mean()"
      ]
    }
  ],
  "metadata": {
    "colab": {
      "provenance": []
    },
    "kernelspec": {
      "display_name": "Python 3",
      "name": "python3"
    },
    "language_info": {
      "codemirror_mode": {
        "name": "ipython",
        "version": 3
      },
      "file_extension": ".py",
      "mimetype": "text/x-python",
      "name": "python",
      "nbconvert_exporter": "python",
      "pygments_lexer": "ipython3",
      "version": "3.10.13"
    }
  },
  "nbformat": 4,
  "nbformat_minor": 0
}
