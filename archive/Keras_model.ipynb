{
 "cells": [
  {
   "cell_type": "markdown",
   "metadata": {},
   "source": [
    "# Building model with Keras pipeline (WIP) #\n"
   ]
  },
  {
   "cell_type": "code",
   "execution_count": 1,
   "metadata": {},
   "outputs": [],
   "source": [
    "# Import the packages\n",
    "\n",
    "# Utilities\n",
    "import os\n",
    "import logging\n",
    "\n",
    "# For visualization\n",
    "import matplotlib as mpl\n",
    "import matplotlib.pyplot as plt\n",
    "import pandas as pd\n",
    "\n",
    "# For modelling\n",
    "import tensorflow as tf\n",
    "from tensorflow import keras\n",
    "from tensorflow import feature_column as fc\n",
    "from tensorflow.keras import layers, models\n",
    "\n",
    "# Set TF logger to only print errors (dismiss warnings)\n",
    "os.environ['TF_CPP_MIN_LOG_LEVEL'] = '2'  # Suppress TensorFlow logging (1: INFO, 2: WARNING and ERROR)\n",
    "tf.get_logger().setLevel('ERROR')  # Suppress TensorFlow logging at the Python level"
   ]
  },
  {
   "cell_type": "markdown",
   "metadata": {},
   "source": [
    "## Load dataset\n",
    "\n",
    "\n"
   ]
  },
  {
   "cell_type": "markdown",
   "metadata": {},
   "source": [
    "Let's check that the files were copied correctly and look like we expect them to."
   ]
  },
  {
   "cell_type": "code",
   "execution_count": 3,
   "metadata": {},
   "outputs": [],
   "source": [
    "df = pd.read_csv('..\\dataset\\data_job_new_with_predicted_cat.csv')"
   ]
  },
  {
   "cell_type": "code",
   "execution_count": 4,
   "metadata": {},
   "outputs": [
    {
     "data": {
      "text/html": [
       "<div>\n",
       "<style scoped>\n",
       "    .dataframe tbody tr th:only-of-type {\n",
       "        vertical-align: middle;\n",
       "    }\n",
       "\n",
       "    .dataframe tbody tr th {\n",
       "        vertical-align: top;\n",
       "    }\n",
       "\n",
       "    .dataframe thead th {\n",
       "        text-align: right;\n",
       "    }\n",
       "</style>\n",
       "<table border=\"1\" class=\"dataframe\">\n",
       "  <thead>\n",
       "    <tr style=\"text-align: right;\">\n",
       "      <th></th>\n",
       "      <th>ID</th>\n",
       "      <th>Company</th>\n",
       "      <th>Job_Title</th>\n",
       "      <th>YOE</th>\n",
       "      <th>Location</th>\n",
       "      <th>Est_Salary</th>\n",
       "      <th>Job_Description</th>\n",
       "      <th>Link</th>\n",
       "      <th>Min_level</th>\n",
       "      <th>Max_level</th>\n",
       "      <th>...</th>\n",
       "      <th>Data_Scientist_prob</th>\n",
       "      <th>Business_Analyst_prob</th>\n",
       "      <th>Business_Intelligence_prob</th>\n",
       "      <th>Others_prob</th>\n",
       "      <th>Data_Engineer</th>\n",
       "      <th>Data_Analyst</th>\n",
       "      <th>Data_Scientist</th>\n",
       "      <th>Business_Analyst</th>\n",
       "      <th>Business_Intelligence</th>\n",
       "      <th>Others</th>\n",
       "    </tr>\n",
       "  </thead>\n",
       "  <tbody>\n",
       "    <tr>\n",
       "      <th>0</th>\n",
       "      <td>3617</td>\n",
       "      <td>FIDT</td>\n",
       "      <td>( Data ) Research Intern</td>\n",
       "      <td>0.0</td>\n",
       "      <td>HCM</td>\n",
       "      <td>65.0</td>\n",
       "      <td>Minimum 10 hours/week; Students complete at le...</td>\n",
       "      <td>https://www.linkedin.com/jobs/view/3631700502</td>\n",
       "      <td>0</td>\n",
       "      <td>0</td>\n",
       "      <td>...</td>\n",
       "      <td>3.320370e-04</td>\n",
       "      <td>1.420000e-05</td>\n",
       "      <td>4.020000e-09</td>\n",
       "      <td>8.928759e-01</td>\n",
       "      <td>0</td>\n",
       "      <td>0</td>\n",
       "      <td>0</td>\n",
       "      <td>0</td>\n",
       "      <td>0</td>\n",
       "      <td>1</td>\n",
       "    </tr>\n",
       "    <tr>\n",
       "      <th>1</th>\n",
       "      <td>1084</td>\n",
       "      <td>Kyanon Digital</td>\n",
       "      <td>Machine Learning Engineer Intern</td>\n",
       "      <td>0.0</td>\n",
       "      <td>HCM</td>\n",
       "      <td>85.0</td>\n",
       "      <td>Familiar with Object-Oriented Programming, Mod...</td>\n",
       "      <td>https://glints.com/vn/opportunities/jobs/machi...</td>\n",
       "      <td>0</td>\n",
       "      <td>0</td>\n",
       "      <td>...</td>\n",
       "      <td>4.200000e-10</td>\n",
       "      <td>2.540000e-07</td>\n",
       "      <td>1.490000e-07</td>\n",
       "      <td>9.947981e-01</td>\n",
       "      <td>0</td>\n",
       "      <td>0</td>\n",
       "      <td>0</td>\n",
       "      <td>0</td>\n",
       "      <td>0</td>\n",
       "      <td>1</td>\n",
       "    </tr>\n",
       "    <tr>\n",
       "      <th>2</th>\n",
       "      <td>2526</td>\n",
       "      <td>Paditech</td>\n",
       "      <td>Blockchain Intern</td>\n",
       "      <td>0.0</td>\n",
       "      <td>HN</td>\n",
       "      <td>85.0</td>\n",
       "      <td>3rd, 4th, 5th year students or have graduated ...</td>\n",
       "      <td>https://www.topcv.vn/viec-lam/thuc-tap-sinh-bl...</td>\n",
       "      <td>0</td>\n",
       "      <td>0</td>\n",
       "      <td>...</td>\n",
       "      <td>3.848903e-03</td>\n",
       "      <td>2.628318e-03</td>\n",
       "      <td>2.480000e-05</td>\n",
       "      <td>9.846249e-01</td>\n",
       "      <td>0</td>\n",
       "      <td>0</td>\n",
       "      <td>0</td>\n",
       "      <td>0</td>\n",
       "      <td>0</td>\n",
       "      <td>1</td>\n",
       "    </tr>\n",
       "    <tr>\n",
       "      <th>3</th>\n",
       "      <td>2858</td>\n",
       "      <td>Maico Group</td>\n",
       "      <td>BI Intern</td>\n",
       "      <td>0.0</td>\n",
       "      <td>HCM</td>\n",
       "      <td>85.0</td>\n",
       "      <td>The program will not be suitable for you who a...</td>\n",
       "      <td>https://www.careerlink.vn/tim-viec-lam/thuc-ta...</td>\n",
       "      <td>0</td>\n",
       "      <td>0</td>\n",
       "      <td>...</td>\n",
       "      <td>2.765148e-03</td>\n",
       "      <td>7.810333e-02</td>\n",
       "      <td>2.572874e-03</td>\n",
       "      <td>9.400327e-01</td>\n",
       "      <td>0</td>\n",
       "      <td>0</td>\n",
       "      <td>0</td>\n",
       "      <td>0</td>\n",
       "      <td>0</td>\n",
       "      <td>1</td>\n",
       "    </tr>\n",
       "    <tr>\n",
       "      <th>4</th>\n",
       "      <td>3423</td>\n",
       "      <td>DataGenius</td>\n",
       "      <td>Data Engineer | Data Analyst | AI Engineer</td>\n",
       "      <td>0.0</td>\n",
       "      <td>HCM</td>\n",
       "      <td>105.0</td>\n",
       "      <td>DataGenius company is recruiting Data Engineer...</td>\n",
       "      <td>https://www.facebook.com/groups/datanalyticsvn...</td>\n",
       "      <td>0</td>\n",
       "      <td>0</td>\n",
       "      <td>...</td>\n",
       "      <td>2.051680e-04</td>\n",
       "      <td>7.030000e-07</td>\n",
       "      <td>3.560000e-09</td>\n",
       "      <td>5.590000e-10</td>\n",
       "      <td>1</td>\n",
       "      <td>1</td>\n",
       "      <td>0</td>\n",
       "      <td>0</td>\n",
       "      <td>0</td>\n",
       "      <td>0</td>\n",
       "    </tr>\n",
       "  </tbody>\n",
       "</table>\n",
       "<p>5 rows × 25 columns</p>\n",
       "</div>"
      ],
      "text/plain": [
       "     ID         Company                                   Job_Title  YOE  \\\n",
       "0  3617            FIDT                    ( Data ) Research Intern  0.0   \n",
       "1  1084  Kyanon Digital            Machine Learning Engineer Intern  0.0   \n",
       "2  2526        Paditech                           Blockchain Intern  0.0   \n",
       "3  2858     Maico Group                                   BI Intern  0.0   \n",
       "4  3423      DataGenius  Data Engineer | Data Analyst | AI Engineer  0.0   \n",
       "\n",
       "  Location  Est_Salary                                    Job_Description  \\\n",
       "0      HCM        65.0  Minimum 10 hours/week; Students complete at le...   \n",
       "1      HCM        85.0  Familiar with Object-Oriented Programming, Mod...   \n",
       "2       HN        85.0  3rd, 4th, 5th year students or have graduated ...   \n",
       "3      HCM        85.0  The program will not be suitable for you who a...   \n",
       "4      HCM       105.0  DataGenius company is recruiting Data Engineer...   \n",
       "\n",
       "                                                Link  Min_level  Max_level  \\\n",
       "0      https://www.linkedin.com/jobs/view/3631700502          0          0   \n",
       "1  https://glints.com/vn/opportunities/jobs/machi...          0          0   \n",
       "2  https://www.topcv.vn/viec-lam/thuc-tap-sinh-bl...          0          0   \n",
       "3  https://www.careerlink.vn/tim-viec-lam/thuc-ta...          0          0   \n",
       "4  https://www.facebook.com/groups/datanalyticsvn...          0          0   \n",
       "\n",
       "   ...  Data_Scientist_prob  Business_Analyst_prob  \\\n",
       "0  ...         3.320370e-04           1.420000e-05   \n",
       "1  ...         4.200000e-10           2.540000e-07   \n",
       "2  ...         3.848903e-03           2.628318e-03   \n",
       "3  ...         2.765148e-03           7.810333e-02   \n",
       "4  ...         2.051680e-04           7.030000e-07   \n",
       "\n",
       "   Business_Intelligence_prob   Others_prob  Data_Engineer  Data_Analyst  \\\n",
       "0                4.020000e-09  8.928759e-01              0             0   \n",
       "1                1.490000e-07  9.947981e-01              0             0   \n",
       "2                2.480000e-05  9.846249e-01              0             0   \n",
       "3                2.572874e-03  9.400327e-01              0             0   \n",
       "4                3.560000e-09  5.590000e-10              1             1   \n",
       "\n",
       "   Data_Scientist  Business_Analyst  Business_Intelligence  Others  \n",
       "0               0                 0                      0       1  \n",
       "1               0                 0                      0       1  \n",
       "2               0                 0                      0       1  \n",
       "3               0                 0                      0       1  \n",
       "4               0                 0                      0       0  \n",
       "\n",
       "[5 rows x 25 columns]"
      ]
     },
     "execution_count": 4,
     "metadata": {},
     "output_type": "execute_result"
    }
   ],
   "source": [
    "df.head()"
   ]
  },
  {
   "cell_type": "code",
   "execution_count": 5,
   "metadata": {},
   "outputs": [
    {
     "name": "stdout",
     "output_type": "stream",
     "text": [
      "<class 'pandas.core.frame.DataFrame'>\n",
      "RangeIndex: 3631 entries, 0 to 3630\n",
      "Data columns (total 14 columns):\n",
      " #   Column                 Non-Null Count  Dtype  \n",
      "---  ------                 --------------  -----  \n",
      " 0   YOE                    2974 non-null   float64\n",
      " 1   Location               3621 non-null   object \n",
      " 2   Est_Salary             3377 non-null   float64\n",
      " 3   Min_level              3631 non-null   int64  \n",
      " 4   Max_level              3631 non-null   int64  \n",
      " 5   VN                     3631 non-null   int64  \n",
      " 6   Overseas               3631 non-null   int64  \n",
      " 7   Remote                 3631 non-null   int64  \n",
      " 8   Data_Engineer          3631 non-null   int64  \n",
      " 9   Data_Analyst           3631 non-null   int64  \n",
      " 10  Data_Scientist         3631 non-null   int64  \n",
      " 11  Business_Analyst       3631 non-null   int64  \n",
      " 12  Business_Intelligence  3631 non-null   int64  \n",
      " 13  Others                 3631 non-null   int64  \n",
      "dtypes: float64(2), int64(11), object(1)\n",
      "memory usage: 397.3+ KB\n"
     ]
    }
   ],
   "source": [
    "col_to_drop = ['Job_Title','Job_Description','ID', 'Company', 'Link', 'Data_Engineer_prob','Data_Analyst_prob', 'Data_Scientist_prob','Business_Analyst_prob','Business_Intelligence_prob','Others_prob']\n",
    "clean_df=df.drop(columns=col_to_drop)\n",
    "clean_df.info()"
   ]
  },
  {
   "cell_type": "code",
   "execution_count": 6,
   "metadata": {},
   "outputs": [
    {
     "data": {
      "text/plain": [
       "array(['HCM', 'HN', 'Nha Trang', 'HCM, Remote*', 'Remote', 'Binh Duong',\n",
       "       'Dong Nai', 'HCM*, Dong Nai', 'Da Nang', 'HCM, Remote',\n",
       "       'HCM, Da Nang*, Remote*', nan, 'Khanh Hoa', 'An Giang', 'Can Tho',\n",
       "       'VN', 'Bac Ninh, HN*', 'Quy Nhon', 'Bac Ninh', 'Hai Duong',\n",
       "       'Quang Ngai', 'Gia Lai', 'Long An', 'Hung Yen, Hai Duong, Ha Noi',\n",
       "       'Binh Dinh', 'VN, Remote', 'HCM, Binh Duong', 'HCM, Da Nang',\n",
       "       'Quang Nam', 'BR-VT', 'HCM, Long An', 'Hoa Binh', 'Philippines',\n",
       "       'HCM, Binh Duong, Dong Nai', 'Binh Duong, HCM', 'Hai Phong',\n",
       "       'HCM, US*', 'Binh Duong, BR-VT', 'Malaysia, HN', 'Cambodia',\n",
       "       'Da Nang, Japan*', 'Philipines', 'HCM, Khanh Hoa',\n",
       "       'HCM, US*, Japan*', 'HCM, Australia*',\n",
       "       'HCM, Singapore*, Australia*', 'Senior', 'HCM, Can Tho',\n",
       "       'HCM, Cambodia', 'HCM, Da Nang, Remote', 'Thailand', 'HCM, HN',\n",
       "       'Hong Kong', 'HCM, Dong Nai', 'Korea', 'Australia', 'Malaysia',\n",
       "       'UK, Remote', 'Singapore',\n",
       "       'VN*, HN, HCM, Da Nang, India, Philippines',\n",
       "       'HCM, Da Nang, Binh Duong', 'HCM, Philippines',\n",
       "       'HCM, Singapore, APAC', 'EU, US, HCM*', 'Japan', 'VN, HN*, HCM*',\n",
       "       'Finland', 'VN ( HN, HCM )', 'HCM, BR-VT*', 'Canada, Remote'],\n",
       "      dtype=object)"
      ]
     },
     "execution_count": 6,
     "metadata": {},
     "output_type": "execute_result"
    }
   ],
   "source": [
    "clean_df['Location'].unique()"
   ]
  },
  {
   "cell_type": "code",
   "execution_count": 7,
   "metadata": {},
   "outputs": [
    {
     "name": "stdout",
     "output_type": "stream",
     "text": [
      "['HCM' 'Ha Noi' 'Nha Trang' 'Remote' 'Binh Duong' 'Dong Nai' 'HCM*'\n",
      " 'Da Nang' 'Unspecified' 'Khanh Hoa' 'An Giang' 'Can Tho' 'VN' 'Bac Ninh'\n",
      " 'Quy Nhon' 'Hai Duong' 'Quang Ngai' 'Gia Lai' 'Long An' 'Hung Yen'\n",
      " 'Binh Dinh' 'Quang Nam' 'BR-VT' 'Hoa Binh' 'Philippines' 'Hai Phong'\n",
      " 'Malaysia' 'Cambodia' 'Thailand' 'Hong Kong' 'Korea' 'Australia' 'UK'\n",
      " 'Singapore' 'VN*' 'EU' 'Japan' 'Finland' 'Canada']\n"
     ]
    }
   ],
   "source": [
    "# Standardize the location variable\n",
    "clean_df['Location'] = clean_df['Location'].str.replace(r'[^a-zA-Z0-9 ]', '')\n",
    "\n",
    "# Replace typos and abbreviations\n",
    "clean_df['Location'] = clean_df['Location'].replace({\n",
    "    'HN': 'Ha Noi',\n",
    "    'Philipines': 'Philippines'\n",
    "})\n",
    "\n",
    "# Replace 'None' and 'Senior' with 'Unspecified'\n",
    "clean_df['Location'] = clean_df['Location'].replace({\n",
    "    None: 'Unspecified',\n",
    "    'Senior': 'Unspecified'\n",
    "})\n",
    "\n",
    "# Split values with multiple categories, keep only the least frequent category\n",
    "def split_and_keep_least_frequent(categories):\n",
    "    if pd.isna(categories):\n",
    "        return 'Unspecified'\n",
    "    else:\n",
    "        # Split categories by comma\n",
    "        category_list = [category.strip() for category in categories.split(',')]\n",
    "        \n",
    "        # Remove parenthesized content\n",
    "        category_list = [category.split('(')[0].strip() for category in category_list]\n",
    "        \n",
    "        # Count occurrences of each category\n",
    "        category_counts = pd.Series(category_list).value_counts()\n",
    "        \n",
    "        # Find the least frequent category\n",
    "        least_frequent_category = category_counts.idxmin()\n",
    "        \n",
    "        return least_frequent_category\n",
    "\n",
    "# Apply the function to the 'Location' column\n",
    "clean_df['Location'] = clean_df['Location'].apply(split_and_keep_least_frequent)\n",
    "\n",
    "# Display the cleaned unique values\n",
    "print(clean_df['Location'].unique())\n"
   ]
  },
  {
   "cell_type": "code",
   "execution_count": 8,
   "metadata": {},
   "outputs": [
    {
     "name": "stdout",
     "output_type": "stream",
     "text": [
      "<class 'pandas.core.frame.DataFrame'>\n",
      "RangeIndex: 3631 entries, 0 to 3630\n",
      "Data columns (total 14 columns):\n",
      " #   Column                 Non-Null Count  Dtype  \n",
      "---  ------                 --------------  -----  \n",
      " 0   YOE                    3631 non-null   float64\n",
      " 1   Location               3631 non-null   object \n",
      " 2   Est_Salary             3631 non-null   float64\n",
      " 3   Min_level              3631 non-null   int64  \n",
      " 4   Max_level              3631 non-null   int64  \n",
      " 5   VN                     3631 non-null   int64  \n",
      " 6   Overseas               3631 non-null   int64  \n",
      " 7   Remote                 3631 non-null   int64  \n",
      " 8   Data_Engineer          3631 non-null   int64  \n",
      " 9   Data_Analyst           3631 non-null   int64  \n",
      " 10  Data_Scientist         3631 non-null   int64  \n",
      " 11  Business_Analyst       3631 non-null   int64  \n",
      " 12  Business_Intelligence  3631 non-null   int64  \n",
      " 13  Others                 3631 non-null   int64  \n",
      "dtypes: float64(2), int64(11), object(1)\n",
      "memory usage: 397.3+ KB\n"
     ]
    }
   ],
   "source": [
    "clean_df.dropna(subset='Est_Salary')\n",
    "clean_df.fillna(value=0, inplace=True)\n",
    "\n",
    "job_categories = ['Data_Engineer', 'Data_Analyst', 'Data_Scientist', 'Business_Analyst', 'Business_Intelligence','Others']\n",
    "# Calculate the average YOE for each job category and round it\n",
    "average_yoe_by_category = clean_df.groupby(job_categories)['YOE'].mean().round().reset_index()\n",
    "\n",
    "# Fill in the missing 'YOE' values based on the job category\n",
    "for _, row in average_yoe_by_category.iterrows():\n",
    "    condition = (clean_df[job_categories] == tuple(row[job_categories])).all(axis=1)\n",
    "    clean_df.loc[condition, 'YOE'] = row['YOE']\n",
    "\n",
    "clean_df['Location'] = clean_df['Location'].astype(str)\n",
    "\n",
    "clean_df.info()"
   ]
  },
  {
   "cell_type": "markdown",
   "metadata": {},
   "source": [
    "## Create an input pipeline\n"
   ]
  },
  {
   "cell_type": "code",
   "execution_count": 9,
   "metadata": {},
   "outputs": [
    {
     "name": "stderr",
     "output_type": "stream",
     "text": [
      "c:\\Users\\PC\\miniconda3\\envs\\data_venv\\lib\\site-packages\\sklearn\\preprocessing\\_encoders.py:975: FutureWarning: `sparse` was renamed to `sparse_output` in version 1.2 and will be removed in 1.4. `sparse_output` is ignored unless you leave `sparse` to its default value.\n",
      "  warnings.warn(\n"
     ]
    }
   ],
   "source": [
    "from sklearn.model_selection import train_test_split\n",
    "from sklearn.preprocessing import OneHotEncoder\n",
    "\n",
    "# Init global variables and encoder\n",
    "LABEL_COLUMN = 'Est_Salary'  \n",
    "NUMERIC_COLS = ['YOE', 'Min_level',\n",
    "                'Max_level', 'VN',\n",
    "                'Overseas', 'Remote', \n",
    "                'Data_Engineer','Data_Analyst','Data_Scientist',\n",
    "                'Business_Analyst','Business_Intelligence','Others']\n",
    "CATEGORICAL_COLS  = ['Location']\n",
    "encoder = OneHotEncoder(sparse=False)\n",
    "encoder.fit(clean_df[[\"Location\"]])\n",
    "encoded_categorical_column = encoder.transform(clean_df[[\"Location\"]])\n",
    "\n",
    "\n",
    "# A function to separate features and labels\n",
    "def encode_location(location_category):\n",
    "    location_category = location_category.numpy()  # Convert to numpy\n",
    "    return encoder.transform([[location_category]])[0]\n",
    "\n",
    "def features_and_labels(row_data):\n",
    "    label = row_data.pop(LABEL_COLUMN)\n",
    "    location_category = row_data['Location']\n",
    "\n",
    "    # Wrap the encoding in tf.py_function\n",
    "    location_encoded = tf.py_function(encode_location, [location_category], Tout=[tf.float32])\n",
    "\n",
    "    row_data['encoded_categorical'] = location_encoded\n",
    "    \n",
    "    return row_data, label\n",
    "\n",
    "\n",
    "\n",
    "\n",
    "def load_dataset(dataframe, batch_size=1, mode='eval'):\n",
    "    # Split the DataFrame into train and eval sets\n",
    "    train_df, eval_df = train_test_split(dataframe, test_size=0.2, random_state=42)\n",
    "\n",
    "    if mode == 'train':\n",
    "        df = train_df\n",
    "    elif mode == 'eval':\n",
    "        df = eval_df\n",
    "    else:\n",
    "        raise ValueError(\"Mode must be 'train' or 'eval'\")\n",
    "\n",
    "    # Convert DataFrame to tf.data.Dataset\n",
    "    dataset = tf.data.Dataset.from_tensor_slices(dict(df))\n",
    "    dataset = dataset.map(features_and_labels)\n",
    "\n",
    "    if mode == 'train':\n",
    "        # Notice the repeat method is used so this dataset will loop infinitely\n",
    "        dataset = dataset.shuffle(1000).repeat()\n",
    "        # take advantage of multi-threading; 1=AUTOTUNE\n",
    "        dataset = dataset.prefetch(1)\n",
    "\n",
    "    return dataset"
   ]
  },
  {
   "cell_type": "markdown",
   "metadata": {},
   "source": [
    "## Create a DNN Model in Keras\n",
    "\n",
    "Since the model is defined using `feature columns` the first layer might look different to what you are used to. This is done by declaring two dictionaries, one for the inputs (defined as Input layers) and one for the features (defined as feature columns).\n",
    "\n",
    "Then computing the `DenseFeatures` tensor by passing in the feature columns to the constructor of the `DenseFeatures` layer and passing in the inputs to the resulting tensor (this is easier to understand with code):"
   ]
  },
  {
   "cell_type": "code",
   "execution_count": 12,
   "metadata": {},
   "outputs": [],
   "source": [
    "def build_dnn_model():\n",
    "    # Define input layers for numeric features\n",
    "    numeric_inputs = {\n",
    "        colname: layers.Input(name=colname, shape=(), dtype='float32')\n",
    "        for colname in NUMERIC_COLS\n",
    "    }\n",
    "\n",
    "    # Define input layer for categorical feature\n",
    "    categorical_inputs = {\n",
    "        colname: layers.Input(name=colname, shape=(), dtype='string')\n",
    "        for colname in CATEGORICAL_COLS\n",
    "    }\n",
    "\n",
    "    # Define feature columns for numeric features\n",
    "    numeric_feature_columns = {\n",
    "        colname: fc.numeric_column(colname)\n",
    "        for colname in NUMERIC_COLS\n",
    "    }\n",
    "\n",
    "    # Define feature column for categorical feature\n",
    "    categorical_feature_columns = {\n",
    "        colname: fc.embedding_column(\n",
    "            fc.categorical_column_with_vocabulary_list(colname, vocabulary_list=clean_df[\"Location\"].unique()),\n",
    "            dimension=8  # Specify the embedding dimension\n",
    "        )\n",
    "        for colname in CATEGORICAL_COLS\n",
    "    }\n",
    "    # Modify to include the OneHotEncoder output in categorical features\n",
    "    encoded_categorical_input = layers.Input(name='encoded_categorical', shape=(encoded_categorical_column.shape[1],), dtype='float32')\n",
    "    encoded_categorical_embedding = layers.Dense(8, activation='relu')(encoded_categorical_input)\n",
    "\n",
    "    # Construct DenseFeatures for numeric features\n",
    "    numeric_dnn_inputs = layers.DenseFeatures(numeric_feature_columns.values())(numeric_inputs)\n",
    "\n",
    "    # Construct DenseFeatures for categorical features\n",
    "    categorical_dnn_inputs = layers.DenseFeatures(categorical_feature_columns.values())(categorical_inputs)\n",
    "\n",
    "    # Concatenate numeric and categorical features\n",
    "    concatenated_inputs = layers.concatenate([numeric_dnn_inputs, categorical_dnn_inputs, encoded_categorical_embedding])\n",
    "\n",
    "    # Two hidden layers of 32 and 8 units, respectively\n",
    "    h1 = layers.Dense(32, activation='relu', name='h1')(concatenated_inputs)\n",
    "    h2 = layers.Dense(8, activation='relu', name='h2')(h1)\n",
    "\n",
    "    # Final output is a linear activation because this is a regression problem\n",
    "    output = layers.Dense(1, activation='linear', name='output')(h2)\n",
    "\n",
    "    # Create model with inputs and output\n",
    "    model = models.Model({**numeric_inputs, **categorical_inputs, 'encoded_categorical': encoded_categorical_input}, output)\n",
    "\n",
    "    # Compile model (Mean Squared Error is suitable for regression)\n",
    "    model.compile(optimizer='adam',\n",
    "                  loss='mse',\n",
    "                  metrics=[\n",
    "                      'mae',  # you can add more metrics as needed\n",
    "                  ])\n",
    "\n",
    "    return model"
   ]
  },
  {
   "cell_type": "markdown",
   "metadata": {},
   "source": [
    "We'll build our DNN model and inspect the model architecture."
   ]
  },
  {
   "cell_type": "code",
   "execution_count": 13,
   "metadata": {},
   "outputs": [
    {
     "data": {
      "image/png": "[encoded data removed]",
      "text/plain": [
       "<IPython.core.display.Image object>"
      ]
     },
     "execution_count": 13,
     "metadata": {},
     "output_type": "execute_result"
    }
   ],
   "source": [
    "# Save compiled model into a variable\n",
    "keras_model = build_dnn_model()\n",
    "\n",
    "# Plot the layer architecture and relationship between input features\n",
    "tf.keras.utils.plot_model(keras_model, 'dnn_model.png', show_shapes=False, rankdir='LR')"
   ]
  },
  {
   "cell_type": "markdown",
   "metadata": {},
   "source": [
    "With the model architecture defined it is time to train it!"
   ]
  },
  {
   "cell_type": "markdown",
   "metadata": {},
   "source": [
    "## Train the model\n",
    "\n",
    "You are going to train the model for 20 epochs using a batch size of 32."
   ]
  },
  {
   "cell_type": "code",
   "execution_count": 14,
   "metadata": {},
   "outputs": [],
   "source": [
    "NUM_EPOCHS = 20\n",
    "TRAIN_BATCH_SIZE = 32\n",
    "NUM_TRAIN_EXAMPLES = len(load_dataset(clean_df,'train'))\n",
    "NUM_EVAL_EXAMPLES = len(load_dataset(clean_df,'eval'))"
   ]
  },
  {
   "cell_type": "markdown",
   "metadata": {},
   "source": [
    "Use the previously defined function to load the datasets from the original csv files."
   ]
  },
  {
   "cell_type": "code",
   "execution_count": 15,
   "metadata": {},
   "outputs": [
    {
     "ename": "NameError",
     "evalue": "name 'model' is not defined",
     "output_type": "error",
     "traceback": [
      "\u001b[1;31m---------------------------------------------------------------------------\u001b[0m",
      "\u001b[1;31mNameError\u001b[0m                                 Traceback (most recent call last)",
      "\u001b[1;32mc:\\Users\\PC\\git\\Data_Job_Analysis\\archive\\Keras_model.ipynb Cell 22\u001b[0m line \u001b[0;36m1\n\u001b[0;32m      <a href='vscode-notebook-cell:/c%3A/Users/PC/git/Data_Job_Analysis/archive/Keras_model.ipynb#X30sZmlsZQ%3D%3D?line=8'>9</a>\u001b[0m steps_per_epoch \u001b[39m=\u001b[39m NUM_TRAIN_EXAMPLES \u001b[39m/\u001b[39m\u001b[39m/\u001b[39m TRAIN_BATCH_SIZE\n\u001b[0;32m     <a href='vscode-notebook-cell:/c%3A/Users/PC/git/Data_Job_Analysis/archive/Keras_model.ipynb#X30sZmlsZQ%3D%3D?line=10'>11</a>\u001b[0m \u001b[39m# Train the model and save the history\u001b[39;00m\n\u001b[1;32m---> <a href='vscode-notebook-cell:/c%3A/Users/PC/git/Data_Job_Analysis/archive/Keras_model.ipynb#X30sZmlsZQ%3D%3D?line=11'>12</a>\u001b[0m history \u001b[39m=\u001b[39m model\u001b[39m.\u001b[39mfit(trainds,\n\u001b[0;32m     <a href='vscode-notebook-cell:/c%3A/Users/PC/git/Data_Job_Analysis/archive/Keras_model.ipynb#X30sZmlsZQ%3D%3D?line=12'>13</a>\u001b[0m                     validation_data\u001b[39m=\u001b[39mevalds,\n\u001b[0;32m     <a href='vscode-notebook-cell:/c%3A/Users/PC/git/Data_Job_Analysis/archive/Keras_model.ipynb#X30sZmlsZQ%3D%3D?line=13'>14</a>\u001b[0m                     epochs\u001b[39m=\u001b[39mNUM_EPOCHS,\n\u001b[0;32m     <a href='vscode-notebook-cell:/c%3A/Users/PC/git/Data_Job_Analysis/archive/Keras_model.ipynb#X30sZmlsZQ%3D%3D?line=14'>15</a>\u001b[0m                     steps_per_epoch\u001b[39m=\u001b[39msteps_per_epoch)\n",
      "\u001b[1;31mNameError\u001b[0m: name 'model' is not defined"
     ]
    }
   ],
   "source": [
    "# Training dataset\n",
    "trainds = load_dataset(clean_df, TRAIN_BATCH_SIZE, 'train')\n",
    "\n",
    "# Evaluation dataset\n",
    "evalds = load_dataset(clean_df, 1000, 'eval').take(NUM_EVAL_EXAMPLES//1000)\n",
    "\n",
    "# Needs to be specified since the dataset is infinite\n",
    "# This happens because the repeat method was used when creating the dataset\n",
    "steps_per_epoch = NUM_TRAIN_EXAMPLES // TRAIN_BATCH_SIZE\n",
    "\n",
    "# Train the model and save the history\n",
    "history = model.fit(trainds,\n",
    "                    validation_data=evalds,\n",
    "                    epochs=NUM_EPOCHS,\n",
    "                    steps_per_epoch=steps_per_epoch)"
   ]
  },
  {
   "cell_type": "code",
   "execution_count": 18,
   "metadata": {},
   "outputs": [
    {
     "name": "stdout",
     "output_type": "stream",
     "text": [
      "Epoch 1/20\n"
     ]
    },
    {
     "name": "stderr",
     "output_type": "stream",
     "text": [
      "c:\\Users\\PC\\miniconda3\\envs\\data_venv\\lib\\site-packages\\sklearn\\preprocessing\\_encoders.py:975: FutureWarning: `sparse` was renamed to `sparse_output` in version 1.2 and will be removed in 1.4. `sparse_output` is ignored unless you leave `sparse` to its default value.\n",
      "  warnings.warn(\n"
     ]
    },
    {
     "name": "stdout",
     "output_type": "stream",
     "text": [
      "726/726 - 2s - loss: 5309522.0000 - mae: 1540.3439 - val_loss: 2649715.2500 - val_mae: 1004.2386 - 2s/epoch - 3ms/step\n",
      "Epoch 2/20\n",
      "726/726 - 1s - loss: 3220777.5000 - mae: 1075.2361 - val_loss: 2542508.2500 - val_mae: 955.8239 - 1s/epoch - 2ms/step\n",
      "Epoch 3/20\n",
      "726/726 - 1s - loss: 3151740.5000 - mae: 1056.1296 - val_loss: 2466593.7500 - val_mae: 925.2232 - 1s/epoch - 2ms/step\n",
      "Epoch 4/20\n",
      "726/726 - 1s - loss: 3094777.0000 - mae: 1038.0259 - val_loss: 2409055.7500 - val_mae: 931.8275 - 1s/epoch - 2ms/step\n",
      "Epoch 5/20\n",
      "726/726 - 1s - loss: 3037503.7500 - mae: 1032.6604 - val_loss: 2345772.2500 - val_mae: 880.4140 - 1s/epoch - 2ms/step\n",
      "Epoch 6/20\n",
      "726/726 - 1s - loss: 2992548.0000 - mae: 1017.8545 - val_loss: 2291413.5000 - val_mae: 886.6585 - 1s/epoch - 2ms/step\n",
      "Epoch 7/20\n",
      "726/726 - 1s - loss: 2951816.7500 - mae: 1008.8586 - val_loss: 2255306.7500 - val_mae: 888.9640 - 1s/epoch - 2ms/step\n",
      "Epoch 8/20\n",
      "726/726 - 1s - loss: 2916765.5000 - mae: 1001.1181 - val_loss: 2235406.5000 - val_mae: 898.4830 - 1s/epoch - 2ms/step\n",
      "Epoch 9/20\n",
      "726/726 - 1s - loss: 2893287.2500 - mae: 992.1271 - val_loss: 2174675.7500 - val_mae: 853.1786 - 1s/epoch - 2ms/step\n",
      "Epoch 10/20\n",
      "726/726 - 1s - loss: 2868241.7500 - mae: 986.3253 - val_loss: 2151686.5000 - val_mae: 850.7004 - 1s/epoch - 2ms/step\n",
      "Epoch 11/20\n",
      "726/726 - 1s - loss: 2842039.5000 - mae: 979.1522 - val_loss: 2153794.0000 - val_mae: 874.1232 - 1s/epoch - 2ms/step\n",
      "Epoch 12/20\n",
      "726/726 - 1s - loss: 2818549.0000 - mae: 974.8425 - val_loss: 2114323.2500 - val_mae: 847.4823 - 1s/epoch - 2ms/step\n",
      "Epoch 13/20\n",
      "726/726 - 1s - loss: 2797356.5000 - mae: 974.7041 - val_loss: 2095051.8750 - val_mae: 835.0443 - 1s/epoch - 2ms/step\n",
      "Epoch 14/20\n",
      "726/726 - 1s - loss: 2781476.2500 - mae: 970.6566 - val_loss: 2082795.3750 - val_mae: 824.8792 - 1s/epoch - 2ms/step\n",
      "Epoch 15/20\n",
      "726/726 - 1s - loss: 2765031.0000 - mae: 963.7861 - val_loss: 2074113.3750 - val_mae: 833.6028 - 1s/epoch - 2ms/step\n",
      "Epoch 16/20\n",
      "726/726 - 1s - loss: 2747799.7500 - mae: 962.7537 - val_loss: 2063975.0000 - val_mae: 832.1913 - 1s/epoch - 2ms/step\n",
      "Epoch 17/20\n",
      "726/726 - 1s - loss: 2728432.2500 - mae: 959.8865 - val_loss: 2057185.5000 - val_mae: 818.6477 - 1s/epoch - 2ms/step\n",
      "Epoch 18/20\n",
      "726/726 - 1s - loss: 2719681.7500 - mae: 952.9824 - val_loss: 2091913.8750 - val_mae: 864.2420 - 1s/epoch - 2ms/step\n",
      "Epoch 19/20\n",
      "726/726 - 1s - loss: 2705023.7500 - mae: 959.1608 - val_loss: 2054072.5000 - val_mae: 838.3649 - 1s/epoch - 2ms/step\n",
      "Epoch 20/20\n",
      "726/726 - 1s - loss: 2695606.0000 - mae: 955.0883 - val_loss: 2041537.1250 - val_mae: 827.0798 - 1s/epoch - 2ms/step\n",
      "23/23 [==============================] - 0s 1ms/step\n",
      "Validation MSE: 2041537.4805633011\n",
      "Validation MAE: 827.0800309948613\n"
     ]
    }
   ],
   "source": [
    "from sklearn.model_selection import train_test_split\n",
    "from sklearn.preprocessing import OneHotEncoder\n",
    "from sklearn.metrics import mean_squared_error, mean_absolute_error\n",
    "from tensorflow.keras import layers, models\n",
    "NUM_EPOCHS=20\n",
    "TRAIN_BATCH_SIZE=4\n",
    "# Assuming clean_df is your DataFrame\n",
    "X = clean_df.drop('Est_Salary', axis=1)\n",
    "y = clean_df['Est_Salary']\n",
    "\n",
    "# Split the data into training and validation sets\n",
    "X_train, X_val, y_train, y_val = train_test_split(X, y, test_size=0.2, random_state=42)\n",
    "\n",
    "# One-hot encode the categorical column 'Location'\n",
    "encoder = OneHotEncoder(sparse=False, handle_unknown='ignore')\n",
    "X_train_encoded = encoder.fit_transform(X_train[['Location']])\n",
    "X_val_encoded = encoder.transform(X_val[['Location']])\n",
    "\n",
    "# Build the model\n",
    "numeric_input = layers.Input(shape=(X_train.shape[1] - 1,), name='numeric_input')\n",
    "location_input = layers.Input(shape=(X_train_encoded.shape[1],), name='location_input')\n",
    "\n",
    "dense_numeric = layers.Dense(32, activation='relu')(numeric_input)\n",
    "dense_numeric = layers.Dense(16, activation='relu')(dense_numeric)\n",
    "\n",
    "concatenated_inputs = layers.concatenate([dense_numeric, location_input])\n",
    "\n",
    "dense_combined = layers.Dense(8, activation='relu')(concatenated_inputs)\n",
    "\n",
    "output_layer = layers.Dense(1, activation='linear', name='output')(dense_combined)\n",
    "\n",
    "model = models.Model(inputs=[numeric_input, location_input], outputs=output_layer)\n",
    "\n",
    "# Compile the model\n",
    "model.compile(optimizer='adam', loss='mse', metrics=['mae'])\n",
    "\n",
    "# Train the model\n",
    "history = model.fit(\n",
    "    {'numeric_input': X_train.drop('Location', axis=1).to_numpy(), 'location_input': X_train_encoded},\n",
    "    y_train,\n",
    "    epochs=NUM_EPOCHS,\n",
    "    batch_size=TRAIN_BATCH_SIZE,\n",
    "    verbose =2,\n",
    "    validation_data=(\n",
    "        {'numeric_input': X_val.drop('Location', axis=1).to_numpy(), 'location_input': X_val_encoded},\n",
    "        y_val\n",
    "    )\n",
    ")\n",
    "\n",
    "# Evaluate the model on the validation set\n",
    "val_predictions = model.predict(\n",
    "    {'numeric_input': X_val.drop('Location', axis=1).to_numpy(), 'location_input': X_val_encoded}\n",
    ")\n",
    "val_mse = mean_squared_error(y_val, val_predictions)\n",
    "val_mae = mean_absolute_error(y_val, val_predictions)\n",
    "\n",
    "print(f'Validation MSE: {val_mse}')\n",
    "print(f'Validation MAE: {val_mae}')\n"
   ]
  },
  {
   "cell_type": "markdown",
   "metadata": {},
   "source": [
    "### Visualize training curves\n",
    "\n",
    "Now lets visualize the training history of the model with the raw features:"
   ]
  },
  {
   "cell_type": "code",
   "execution_count": 19,
   "metadata": {},
   "outputs": [
    {
     "data": {
      "image/png": "[encoded data removed]",
      "text/plain": [
       "<Figure size 1000x500 with 2 Axes>"
      ]
     },
     "metadata": {},
     "output_type": "display_data"
    }
   ],
   "source": [
    "# Function for plotting metrics for a given history\n",
    "def plot_curves(history, metrics):\n",
    "    nrows = 1\n",
    "    ncols = 2\n",
    "    fig = plt.figure(figsize=(10, 5))\n",
    "\n",
    "    for idx, key in enumerate(metrics):\n",
    "        ax = fig.add_subplot(nrows, ncols, idx+1)\n",
    "        plt.plot(history.history[key])\n",
    "        plt.plot(history.history[f'val_{key}'])\n",
    "        plt.title(f'model {key}')\n",
    "        plt.ylabel(key)\n",
    "        plt.xlabel('epoch')\n",
    "        plt.legend(['train', 'validation'], loc='upper left')\n",
    "\n",
    "\n",
    "# Plot history metrics\n",
    "plot_curves(history, ['loss', 'mae'])"
   ]
  },
  {
   "cell_type": "markdown",
   "metadata": {},
   "source": [
    "The training history doesn't look very promising showing an erratic behaviour.\n",
    "\n",
    "The model MAE is more than $800. Considering average salary is $2400, this is far than optiomal"
   ]
  },
  {
   "cell_type": "markdown",
   "metadata": {},
   "source": [
    "## Improve Model Performance Using Feature Engineering\n",
    "\n",
    "We have JD as an important feature that has not been utilized in any way"
   ]
  },
  {
   "cell_type": "code",
   "execution_count": null,
   "metadata": {},
   "outputs": [],
   "source": [
    "# extract skills\n",
    "\n",
    "# grouping skills\n",
    "\n",
    "# engineer the skills related features"
   ]
  },
  {
   "cell_type": "markdown",
   "metadata": {},
   "source": [
    "### Applying transformations\n",
    "\n",
    "Now you will define the `transform` function which will apply the previously defined transformation functions. To apply the actual transformations you will be using `Lambda` layers apply a function to values (in this case the inputs).\n"
   ]
  },
  {
   "cell_type": "code",
   "execution_count": null,
   "metadata": {},
   "outputs": [],
   "source": [
    "def transform(inputs, numeric_cols):\n",
    "\n",
    "    # Make a copy of the inputs to apply the transformations to\n",
    "    transformed = inputs.copy()\n",
    "\n",
    "    # Define feature columns\n",
    "    feature_columns = {\n",
    "        colname: tf.feature_column.numeric_column(colname)\n",
    "        for colname in numeric_cols\n",
    "    }\n",
    "\n",
    "    # Scaling longitude from range [-70, -78] to [0, 1]\n",
    "    for lon_col in ['pickup_longitude', 'dropoff_longitude']:\n",
    "        transformed[lon_col] = layers.Lambda(\n",
    "            scale_longitude,\n",
    "            name=f\"scale_{lon_col}\")(inputs[lon_col])\n",
    "\n",
    "    # Scaling latitude from range [37, 45] to [0, 1]\n",
    "    for lat_col in ['pickup_latitude', 'dropoff_latitude']:\n",
    "        transformed[lat_col] = layers.Lambda(\n",
    "            scale_latitude,\n",
    "            name=f'scale_{lat_col}')(inputs[lat_col])\n",
    "\n",
    "    # add Euclidean distance\n",
    "    transformed['euclidean'] = layers.Lambda(\n",
    "        euclidean,\n",
    "        name='euclidean')([inputs['pickup_longitude'],\n",
    "                           inputs['pickup_latitude'],\n",
    "                           inputs['dropoff_longitude'],\n",
    "                           inputs['dropoff_latitude']])\n",
    "\n",
    "\n",
    "    # Add euclidean distance to feature columns\n",
    "    feature_columns['euclidean'] = fc.numeric_column('euclidean')\n",
    "\n",
    "    return transformed, feature_columns"
   ]
  },
  {
   "cell_type": "markdown",
   "metadata": {},
   "source": [
    "## Update the model\n",
    "\n",
    "Next, you'll create the DNN model now with the engineered (transformed) features."
   ]
  },
  {
   "cell_type": "code",
   "execution_count": null,
   "metadata": {},
   "outputs": [],
   "source": [
    "def build_dnn_model():\n",
    "\n",
    "    # input layer (notice type of float32 since features are numeric)\n",
    "    inputs = {\n",
    "        colname: layers.Input(name=colname, shape=(), dtype='float32')\n",
    "        for colname in NUMERIC_COLS\n",
    "    }\n",
    "\n",
    "    # transformed features\n",
    "    transformed, feature_columns = transform(inputs, numeric_cols=NUMERIC_COLS)\n",
    "\n",
    "    # Constructor for DenseFeatures takes a list of numeric columns\n",
    "    # and the resulting tensor takes a dictionary of Lambda layers\n",
    "    dnn_inputs = layers.DenseFeatures(feature_columns.values())(transformed)\n",
    "\n",
    "    # two hidden layers of 32 and 8 units, respectively\n",
    "    h1 = layers.Dense(32, activation='relu', name='h1')(dnn_inputs)\n",
    "    h2 = layers.Dense(8, activation='relu', name='h2')(h1)\n",
    "\n",
    "    # final output is a linear activation because this is a regression problem\n",
    "    output = layers.Dense(1, activation='linear', name='fare')(h2)\n",
    "\n",
    "    # Create model with inputs and output\n",
    "    model = models.Model(inputs, output)\n",
    "\n",
    "    # Compile model (Mean Squared Error is suitable for regression)\n",
    "    model.compile(optimizer='adam',\n",
    "                  loss='mse',\n",
    "                  metrics=[tf.keras.metrics.RootMeanSquaredError(name='rmse'), 'mse'])\n",
    "\n",
    "    return model"
   ]
  },
  {
   "cell_type": "code",
   "execution_count": null,
   "metadata": {},
   "outputs": [],
   "source": [
    "# Save compiled model into a variable\n",
    "model = build_dnn_model()"
   ]
  },
  {
   "cell_type": "markdown",
   "metadata": {},
   "source": [
    "Let's see how the model architecture has changed."
   ]
  },
  {
   "cell_type": "code",
   "execution_count": null,
   "metadata": {},
   "outputs": [],
   "source": [
    "# Plot the layer architecture and relationship between input features\n",
    "tf.keras.utils.plot_model(model, 'dnn_model_engineered.png', show_shapes=False, rankdir='LR')"
   ]
  },
  {
   "cell_type": "markdown",
   "metadata": {},
   "source": [
    "This plot is very useful for understanding the relationships and dependencies between the original and the transformed features!\n",
    "\n",
    "**Notice that the input of the model now consists of 5 features instead of the original 7, thus reducing the dimensionality of the problem.**\n",
    "\n",
    "Let's now train the model that includes feature engineering."
   ]
  },
  {
   "cell_type": "code",
   "execution_count": null,
   "metadata": {},
   "outputs": [],
   "source": [
    "# Train the model and save the history\n",
    "history = model.fit(trainds,\n",
    "                    validation_data=evalds,\n",
    "                    epochs=NUM_EPOCHS,\n",
    "                    steps_per_epoch=steps_per_epoch)"
   ]
  },
  {
   "cell_type": "code",
   "execution_count": null,
   "metadata": {},
   "outputs": [],
   "source": [
    "# Plot history metrics\n",
    "plot_curves(history, ['loss', 'mse'])"
   ]
  },
  {
   "cell_type": "code",
   "execution_count": null,
   "metadata": {},
   "outputs": [],
   "source": [
    "# Use the model to predict\n",
    "prediction = model.predict(taxi_ride, steps=1)\n",
    "\n",
    "# Print prediction\n",
    "print(f\"the model predicted a fare total of {float(prediction):.2f} USD for the ride.\")"
   ]
  }
 ],
 "metadata": {
  "kernelspec": {
   "display_name": "data_venv",
   "language": "python",
   "name": "python3"
  },
  "language_info": {
   "codemirror_mode": {
    "name": "ipython",
    "version": 3
   },
   "file_extension": ".py",
   "mimetype": "text/x-python",
   "name": "python",
   "nbconvert_exporter": "python",
   "pygments_lexer": "ipython3",
   "version": "3.10.13"
  }
 },
 "nbformat": 4,
 "nbformat_minor": 2
}
